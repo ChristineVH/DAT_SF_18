{
 "cells": [
  {
   "cell_type": "markdown",
   "metadata": {},
   "source": [
    "# Linear Algebra"
   ]
  },
  {
   "cell_type": "markdown",
   "metadata": {},
   "source": [
    "#### Importing Packages\n",
    "Python has an extensive collection of third-party libraries, or ***packages***, with additional functions, data-structures, etc.  Many (most?) packages of interest are hosted on the Python Package Index ***pypi***, and can be installed into your environment using ***pip***.  The Anaconda distribution in the pre-work includes a number of these that are useful in data science, so you should have most of them installed already.  \n",
    "\n",
    "ref:  https://pypi.python.org/pypi"
   ]
  },
  {
   "cell_type": "markdown",
   "metadata": {},
   "source": [
    "A note on namespaces when importing - there are a few different ways to import:\n",
    "\n",
    "    1. import numpy\n",
    "\n",
    "    - all submodules of numpy are accessible in the numpy namespace\n",
    "    - e.g. numpy.array([1,2,3])\n",
    "\n",
    "\n",
    "    2. import numpy as np\n",
    "\n",
    "    - same as 1 except an alias 'np' is created for the namespace instead\n",
    "    - e.g. np.array([1,2,3])\n",
    "\n",
    "\n",
    "    3. from numpy import *\n",
    "\n",
    "    - adds all submodules to global namespace\n",
    "    - e.g. array([1,2,3])\n",
    "    - Note: This can be dangerous because if different modules have submodules with the same name than whatever is imported last will overrite what came before it - i.e. naming collision -> overwriting!.\n",
    "    \n",
    "    4. from numpy import array\n",
    "    \n",
    "    - will import only the indicated submodules into the global namespace\n",
    "    - e.g. array([1,2,3])\n",
    "    - Note: can be ok since you are being explicit\n",
    "    \n",
    "    We will generally use 2 and 4 (sparingly)"
   ]
  },
  {
   "cell_type": "markdown",
   "metadata": {
    "collapsed": true
   },
   "source": [
    "### NumPy\n",
    "\n",
    "As we've seen in lecture, linear algebra is the branch of mathematics describing navigation between different vector spaces. This core concept is very important as various data science techniques rely upon it (e.g. Linear Regression, Support Vector Machines, Recommender Systems, Neural Networks).\n",
    "\n",
    "NumPy is a package designed to be used in scientific computing, and specifically around building and manipulating N-dimensional array objects."
   ]
  },
  {
   "cell_type": "code",
   "execution_count": 3,
   "metadata": {
    "collapsed": false
   },
   "outputs": [],
   "source": [
    "import numpy\n",
    "\n",
    "import numpy as np\n",
    "\n",
    "from numpy import absolute\n",
    "\n",
    "# The next one is dangerous to do, and not recommended \n",
    "# except in cases where you know why you're using it\n",
    "# from numpy import *"
   ]
  },
  {
   "cell_type": "markdown",
   "metadata": {},
   "source": [
    "Now we can do the same thing three ways"
   ]
  },
  {
   "cell_type": "code",
   "execution_count": 4,
   "metadata": {
    "collapsed": false
   },
   "outputs": [
    {
     "name": "stdout",
     "output_type": "stream",
     "text": [
      "10\n",
      "10\n",
      "10\n"
     ]
    }
   ],
   "source": [
    "print numpy.absolute(-10)\n",
    "print np.absolute(-10)\n",
    "print absolute(-10)"
   ]
  },
  {
   "cell_type": "markdown",
   "metadata": {},
   "source": [
    "We can create the Linear Algebra Objects we saw in lecture"
   ]
  },
  {
   "cell_type": "code",
   "execution_count": 5,
   "metadata": {
    "collapsed": false
   },
   "outputs": [],
   "source": [
    "vector = np.array([1, 2, 1])"
   ]
  },
  {
   "cell_type": "code",
   "execution_count": 6,
   "metadata": {
    "collapsed": false
   },
   "outputs": [
    {
     "data": {
      "text/plain": [
       "array([[1, 2, 3],\n",
       "       [2, 4, 9]])"
      ]
     },
     "execution_count": 6,
     "metadata": {},
     "output_type": "execute_result"
    }
   ],
   "source": [
    "data = np.array([[1, 2, 3],[2, 4, 9]])\n",
    "data"
   ]
  },
  {
   "cell_type": "code",
   "execution_count": 7,
   "metadata": {
    "collapsed": false
   },
   "outputs": [
    {
     "data": {
      "text/plain": [
       "array([1, 2, 3])"
      ]
     },
     "execution_count": 7,
     "metadata": {},
     "output_type": "execute_result"
    }
   ],
   "source": [
    "data[0]  # first row"
   ]
  },
  {
   "cell_type": "code",
   "execution_count": 11,
   "metadata": {
    "collapsed": false
   },
   "outputs": [
    {
     "data": {
      "text/plain": [
       "array([2, 4])"
      ]
     },
     "execution_count": 11,
     "metadata": {},
     "output_type": "execute_result"
    }
   ],
   "source": [
    "data[ : , 1]  # all rows, second column"
   ]
  },
  {
   "cell_type": "code",
   "execution_count": 13,
   "metadata": {
    "collapsed": false
   },
   "outputs": [
    {
     "data": {
      "text/plain": [
       "array([2, 4, 9])"
      ]
     },
     "execution_count": 13,
     "metadata": {},
     "output_type": "execute_result"
    }
   ],
   "source": [
    "data[ 1, :]"
   ]
  },
  {
   "cell_type": "markdown",
   "metadata": {},
   "source": [
    "Numpy lets us perform matrix operations"
   ]
  },
  {
   "cell_type": "code",
   "execution_count": 9,
   "metadata": {
    "collapsed": false
   },
   "outputs": [
    {
     "data": {
      "text/plain": [
       "array([ 8, 19])"
      ]
     },
     "execution_count": 9,
     "metadata": {},
     "output_type": "execute_result"
    }
   ],
   "source": [
    "np.dot(data, vector)"
   ]
  },
  {
   "cell_type": "markdown",
   "metadata": {},
   "source": [
    "We can transpose an array"
   ]
  },
  {
   "cell_type": "code",
   "execution_count": 10,
   "metadata": {
    "collapsed": false
   },
   "outputs": [
    {
     "name": "stdout",
     "output_type": "stream",
     "text": [
      "[[1 2 3]\n",
      " [2 4 9]]\n",
      "[[1 2]\n",
      " [2 4]\n",
      " [3 9]]\n"
     ]
    }
   ],
   "source": [
    "print data\n",
    "print data.T"
   ]
  },
  {
   "cell_type": "markdown",
   "metadata": {},
   "source": [
    "#### Creating a square matrix array"
   ]
  },
  {
   "cell_type": "code",
   "execution_count": 14,
   "metadata": {
    "collapsed": false
   },
   "outputs": [
    {
     "data": {
      "text/plain": [
       "array([[ 0,  1,  2,  3,  4],\n",
       "       [ 5,  6,  7,  8,  9],\n",
       "       [10, 11, 12, 13, 14],\n",
       "       [15, 16, 17, 18, 19],\n",
       "       [20, 21, 22, 23, 24]])"
      ]
     },
     "execution_count": 14,
     "metadata": {},
     "output_type": "execute_result"
    }
   ],
   "source": [
    "a = np.arange(25).reshape(5,5)\n",
    "# arange(n) is a function that creates a 1 row array of integers of length n \n",
    "# reshape(M,N) is a method converts a list to a matrix of size MxN\n",
    "a"
   ]
  },
  {
   "cell_type": "code",
   "execution_count": 15,
   "metadata": {
    "collapsed": false
   },
   "outputs": [
    {
     "data": {
      "text/plain": [
       "array([[  0,  10,  20,  30,  40],\n",
       "       [ 50,  60,  70,  80,  90],\n",
       "       [100, 110, 120, 130, 140],\n",
       "       [150, 160, 170, 180, 190],\n",
       "       [200, 210, 220, 230, 240]])"
      ]
     },
     "execution_count": 15,
     "metadata": {},
     "output_type": "execute_result"
    }
   ],
   "source": [
    "biga = a*10\n",
    "biga"
   ]
  },
  {
   "cell_type": "code",
   "execution_count": 16,
   "metadata": {
    "collapsed": false
   },
   "outputs": [
    {
     "name": "stdout",
     "output_type": "stream",
     "text": [
      "120.0\n",
      "[ 100.  110.  120.  130.  140.]\n"
     ]
    },
    {
     "data": {
      "text/plain": [
       "array([  20.,   70.,  120.,  170.,  220.])"
      ]
     },
     "execution_count": 16,
     "metadata": {},
     "output_type": "execute_result"
    }
   ],
   "source": [
    "print biga.mean()\n",
    "print biga.mean(axis=0) #Average per column\n",
    "biga.mean(axis=1) #average per row\n",
    "# type(biga.mean(1))"
   ]
  },
  {
   "cell_type": "markdown",
   "metadata": {},
   "source": [
    "Creating a matrix with numpy"
   ]
  },
  {
   "cell_type": "code",
   "execution_count": 17,
   "metadata": {
    "collapsed": false
   },
   "outputs": [
    {
     "data": {
      "text/plain": [
       "matrix([[-20, -10,   0,  10,  20],\n",
       "        [ 30,  40,  50,  60,  70],\n",
       "        [ 80,  90, 100, 110, 120],\n",
       "        [130, 140, 150, 160, 170],\n",
       "        [180, 190, 200, 210, 220]])"
      ]
     },
     "execution_count": 17,
     "metadata": {},
     "output_type": "execute_result"
    }
   ],
   "source": [
    "bigm = np.matrix(biga-20)\n",
    "bigm"
   ]
  },
  {
   "cell_type": "markdown",
   "metadata": {},
   "source": [
    "Creating the Inverse of a Matrix"
   ]
  },
  {
   "cell_type": "code",
   "execution_count": 18,
   "metadata": {
    "collapsed": false
   },
   "outputs": [
    {
     "data": {
      "text/plain": [
       "array([[ -1.20181075e+14,   8.72384672e+13,   9.19201624e+13,\n",
       "          3.51685731e+13,  -9.41461278e+13],\n",
       "       [  1.29915327e+14,  -4.82534697e+14,   2.33187505e+14,\n",
       "          4.61567773e+14,  -3.42135908e+14],\n",
       "       [  1.65462487e+14,   6.77256761e+14,  -7.62120739e+14,\n",
       "         -1.16937875e+15,   1.08878024e+15],\n",
       "       [ -2.39946656e+14,  -2.55863299e+14,   4.56998312e+14,\n",
       "          8.13379896e+14,  -7.74568253e+14],\n",
       "       [  6.47499164e+13,  -2.60972319e+13,  -1.99852408e+13,\n",
       "         -1.40737488e+14,   1.22070045e+14]])"
      ]
     },
     "execution_count": 18,
     "metadata": {},
     "output_type": "execute_result"
    }
   ],
   "source": [
    "np.linalg.inv(biga-20)"
   ]
  },
  {
   "cell_type": "markdown",
   "metadata": {},
   "source": [
    "#### Slices"
   ]
  },
  {
   "cell_type": "code",
   "execution_count": 19,
   "metadata": {
    "collapsed": false
   },
   "outputs": [
    {
     "name": "stdout",
     "output_type": "stream",
     "text": [
      "[[-20 -10   0  10  20]\n",
      " [ 30  40  50  60  70]\n",
      " [ 80  90 100 110 120]\n",
      " [130 140 150 160 170]\n",
      " [180 190 200 210 220]]\n"
     ]
    },
    {
     "data": {
      "text/plain": [
       "array([-20, -10,   0,  10,  20])"
      ]
     },
     "execution_count": 19,
     "metadata": {},
     "output_type": "execute_result"
    }
   ],
   "source": [
    "bigm = np.array(bigm)\n",
    "print bigm\n",
    "bigm[0]"
   ]
  },
  {
   "cell_type": "code",
   "execution_count": 21,
   "metadata": {
    "collapsed": false
   },
   "outputs": [
    {
     "name": "stdout",
     "output_type": "stream",
     "text": [
      "[[  0  10  20  30  40]\n",
      " [ 50  60  70  80  90]\n",
      " [100 110 120 130 140]\n",
      " [150 160 170 180 190]\n",
      " [200 210 220 230 240]]\n"
     ]
    },
    {
     "data": {
      "text/plain": [
       "array([ 0, 10, 20, 30, 40])"
      ]
     },
     "execution_count": 21,
     "metadata": {},
     "output_type": "execute_result"
    }
   ],
   "source": [
    "#Same thing, but demonstrating the full slice with a colon\n",
    "print biga\n",
    "biga[0,:]"
   ]
  },
  {
   "cell_type": "code",
   "execution_count": 23,
   "metadata": {
    "collapsed": false
   },
   "outputs": [
    {
     "name": "stdout",
     "output_type": "stream",
     "text": [
      "[[  0  10  20  30  40]\n",
      " [ 50  60  70  80  90]\n",
      " [100 110 120 130 140]\n",
      " [150 160 170 180 190]\n",
      " [200 210 220 230 240]]\n"
     ]
    },
    {
     "data": {
      "text/plain": [
       "array([ 20,  70, 120, 170, 220])"
      ]
     },
     "execution_count": 23,
     "metadata": {},
     "output_type": "execute_result"
    }
   ],
   "source": [
    "print biga\n",
    "biga[:,2]"
   ]
  },
  {
   "cell_type": "code",
   "execution_count": 25,
   "metadata": {
    "collapsed": false
   },
   "outputs": [],
   "source": [
    "#I don't work!\n",
    "#print biga\n",
    "#biga[,2] "
   ]
  },
  {
   "cell_type": "markdown",
   "metadata": {},
   "source": [
    "#### Describing your Arrays"
   ]
  },
  {
   "cell_type": "code",
   "execution_count": 26,
   "metadata": {
    "collapsed": false
   },
   "outputs": [
    {
     "data": {
      "text/plain": [
       "array([[[ 0,  1],\n",
       "        [ 2,  3],\n",
       "        [ 4,  5]],\n",
       "\n",
       "       [[ 6,  7],\n",
       "        [ 8,  9],\n",
       "        [10, 11]],\n",
       "\n",
       "       [[12, 13],\n",
       "        [14, 15],\n",
       "        [16, 17]],\n",
       "\n",
       "       [[18, 19],\n",
       "        [20, 21],\n",
       "        [22, 23]],\n",
       "\n",
       "       [[24, 25],\n",
       "        [26, 27],\n",
       "        [28, 29]]])"
      ]
     },
     "execution_count": 26,
     "metadata": {},
     "output_type": "execute_result"
    }
   ],
   "source": [
    "compa = np.arange(30).reshape(5,3,2)\n",
    "compa"
   ]
  },
  {
   "cell_type": "code",
   "execution_count": 27,
   "metadata": {
    "collapsed": false
   },
   "outputs": [
    {
     "name": "stdout",
     "output_type": "stream",
     "text": [
      "(5L, 3L, 2L)\n",
      "3\n",
      "int32\n"
     ]
    }
   ],
   "source": [
    "# lets describe it\n",
    "print compa.shape\n",
    "print compa.ndim\n",
    "print compa.dtype"
   ]
  },
  {
   "cell_type": "code",
   "execution_count": 28,
   "metadata": {
    "collapsed": false
   },
   "outputs": [
    {
     "data": {
      "text/plain": [
       "array([19, 21, 23])"
      ]
     },
     "execution_count": 28,
     "metadata": {},
     "output_type": "execute_result"
    }
   ],
   "source": [
    "compa[3,:,1] # 4th grouping, all rows, 2nd column"
   ]
  },
  {
   "cell_type": "code",
   "execution_count": 30,
   "metadata": {
    "collapsed": false
   },
   "outputs": [
    {
     "data": {
      "text/plain": [
       "5"
      ]
     },
     "execution_count": 30,
     "metadata": {},
     "output_type": "execute_result"
    }
   ],
   "source": [
    "# We can assign values using list-like index\n",
    "# But be careful on types\n",
    "compa[0,0,0] = 5.9\n",
    "compa\n",
    "#compa[0,0,0\n",
    "compa[0,0,0] # cast to an int"
   ]
  },
  {
   "cell_type": "markdown",
   "metadata": {},
   "source": [
    "We can change the datatype when needed"
   ]
  },
  {
   "cell_type": "code",
   "execution_count": 31,
   "metadata": {
    "collapsed": false
   },
   "outputs": [
    {
     "data": {
      "text/plain": [
       "5.75"
      ]
     },
     "execution_count": 31,
     "metadata": {},
     "output_type": "execute_result"
    }
   ],
   "source": [
    "compa = compa.astype(float)\n",
    "compa[0,0,0] = 5.75\n",
    "compa[0,0,0]"
   ]
  },
  {
   "cell_type": "markdown",
   "metadata": {},
   "source": [
    "#### Stacking arrays\n",
    "\n",
    "You must stack using dimensions of the saem size"
   ]
  },
  {
   "cell_type": "code",
   "execution_count": 32,
   "metadata": {
    "collapsed": false,
    "scrolled": true
   },
   "outputs": [
    {
     "name": "stdout",
     "output_type": "stream",
     "text": [
      "H Stack\n",
      "[1 2 3 2 3 4]\n",
      "V Stack\n",
      "[[1 2 3]\n",
      " [2 3 4]]\n"
     ]
    }
   ],
   "source": [
    "a = np.array((1,2,3))\n",
    "b = np.array((2,3,4))\n",
    "print 'H Stack'\n",
    "print np.hstack((a,b))\n",
    "print 'V Stack'\n",
    "print np.vstack((a,b))"
   ]
  },
  {
   "cell_type": "code",
   "execution_count": 33,
   "metadata": {
    "collapsed": false
   },
   "outputs": [
    {
     "name": "stdout",
     "output_type": "stream",
     "text": [
      "H Stack\n",
      "[[1 2]\n",
      " [2 3]\n",
      " [3 4]]\n",
      "V Stack\n",
      "[[1]\n",
      " [2]\n",
      " [3]\n",
      " [2]\n",
      " [3]\n",
      " [4]]\n"
     ]
    }
   ],
   "source": [
    "a = np.array([[1],[2],[3]])\n",
    "b = np.array([[2],[3],[4]])\n",
    "print 'H Stack'\n",
    "print np.hstack((a,b))\n",
    "print 'V Stack'\n",
    "print np.vstack((a,b))"
   ]
  },
  {
   "cell_type": "markdown",
   "metadata": {},
   "source": [
    "### Using Random Numbers\n",
    "\n",
    "Random numbers are very helpful and are necessary at times for testing data pipelines and running statistical analyses. Functions for creating random values are under numpy.random."
   ]
  },
  {
   "cell_type": "code",
   "execution_count": 34,
   "metadata": {
    "collapsed": false
   },
   "outputs": [
    {
     "data": {
      "text/plain": [
       "array([[ 0.86340032,  0.44368876,  0.18759138,  0.59464119,  0.75260978],\n",
       "       [ 0.52426854,  0.62580609,  0.45082002,  0.76408783,  0.39782564],\n",
       "       [ 0.64929921,  0.80243912,  0.61179047,  0.59166107,  0.94930407],\n",
       "       [ 0.78759143,  0.6022455 ,  0.21638228,  0.67274018,  0.05618734],\n",
       "       [ 0.52831338,  0.16783627,  0.53512584,  0.25331247,  0.43049984]])"
      ]
     },
     "execution_count": 34,
     "metadata": {},
     "output_type": "execute_result"
    }
   ],
   "source": [
    "#Create a randomized array\n",
    "rm = np.random.rand(5,5)\n",
    "rm"
   ]
  },
  {
   "cell_type": "code",
   "execution_count": 35,
   "metadata": {
    "collapsed": false
   },
   "outputs": [
    {
     "data": {
      "text/plain": [
       "(5L, 5L)"
      ]
     },
     "execution_count": 35,
     "metadata": {},
     "output_type": "execute_result"
    }
   ],
   "source": [
    "rm.shape"
   ]
  },
  {
   "cell_type": "markdown",
   "metadata": {},
   "source": [
    "You can shuffle values randomly as well"
   ]
  },
  {
   "cell_type": "code",
   "execution_count": 36,
   "metadata": {
    "collapsed": false
   },
   "outputs": [
    {
     "data": {
      "text/plain": [
       "array([[ 0.52831338,  0.16783627,  0.53512584,  0.25331247,  0.43049984],\n",
       "       [ 0.78759143,  0.6022455 ,  0.21638228,  0.67274018,  0.05618734],\n",
       "       [ 0.86340032,  0.44368876,  0.18759138,  0.59464119,  0.75260978],\n",
       "       [ 0.64929921,  0.80243912,  0.61179047,  0.59166107,  0.94930407],\n",
       "       [ 0.52426854,  0.62580609,  0.45082002,  0.76408783,  0.39782564]])"
      ]
     },
     "execution_count": 36,
     "metadata": {},
     "output_type": "execute_result"
    }
   ],
   "source": [
    "# This will shuffle along the first index of a multi-dimensional array\n",
    "np.random.shuffle(rm)\n",
    "rm"
   ]
  },
  {
   "cell_type": "code",
   "execution_count": 37,
   "metadata": {
    "collapsed": false
   },
   "outputs": [
    {
     "name": "stdout",
     "output_type": "stream",
     "text": [
      "0.538378721328\n",
      "[ 0.67057458  0.52840315  0.400342    0.57528855  0.51728534]\n",
      "[ 0.38301756  0.46702935  0.56838629  0.72089879  0.55256162]\n"
     ]
    }
   ],
   "source": [
    "print rm.mean()\n",
    "print rm.mean(0) #Average per column\n",
    "print rm.mean(1) #average per row"
   ]
  },
  {
   "cell_type": "code",
   "execution_count": 40,
   "metadata": {
    "collapsed": false
   },
   "outputs": [
    {
     "data": {
      "text/plain": [
       "array([[ -3.37800486e-01,   8.62180386e+00,   6.50642593e+00,\n",
       "          7.82990657e-01,  -1.63567639e+01,  -5.61088837e+00,\n",
       "          1.15146690e+01,   1.31875221e+01,   5.60006091e+00,\n",
       "         -8.30389017e+00,   3.18208811e+00,   6.71755612e+00,\n",
       "          1.00895072e+01,   4.27666750e+00,   5.70678861e+00,\n",
       "          7.86538713e+00,   6.83397448e+00,  -4.73358374e+00,\n",
       "          8.68744291e+00,  -2.92130990e+00,  -9.73476653e+00,\n",
       "         -1.01448705e+00,   1.06962906e+01,  -8.47870107e+00,\n",
       "          1.80549417e+00,   9.75742317e+00,   1.03992373e+01,\n",
       "         -7.26348748e+00,  -7.72782523e-01,   5.31025540e+00],\n",
       "       [  9.23488555e-01,   9.23052350e+00,   5.11838538e+00,\n",
       "          1.54251993e+01,   3.42599930e+00,   9.22229714e+00,\n",
       "          1.03838707e+01,   2.38742172e+00,   2.82380421e+01,\n",
       "         -4.33836376e+00,   1.30896203e+01,   4.02592280e+00,\n",
       "         -4.28283020e+00,   1.41335534e+01,   7.64494834e-01,\n",
       "          5.66499745e+00,  -5.84387179e+00,   1.70937310e+01,\n",
       "         -1.25982486e-01,   3.32579631e+00,   1.63580674e+01,\n",
       "         -6.77702085e-01,   1.11291684e+01,   1.54066591e+01,\n",
       "          9.61861741e-01,  -8.68311088e+00,   1.24622771e+01,\n",
       "          1.63777912e+01,  -1.82454126e+00,   1.64915005e+01],\n",
       "       [  1.67704057e+01,  -3.11650925e+00,   1.14269087e+01,\n",
       "          5.40186113e+00,   1.67473963e+01,   6.52508785e+00,\n",
       "          2.65291079e+01,   2.30475830e+00,   3.44600085e+01,\n",
       "          2.26212605e+01,   8.36090003e+00,   7.63488225e+00,\n",
       "          3.21704010e+00,   7.38844931e+00,   8.58232025e+00,\n",
       "          1.43053790e+01,   1.94079145e+01,   7.90938477e+00,\n",
       "          3.44226157e+00,   1.93396668e+01,   1.80293760e+01,\n",
       "         -1.40087248e+00,  -1.97556039e+00,   2.43302890e+00,\n",
       "          2.36985835e+01,   2.94276887e+00,   9.36856674e+00,\n",
       "          1.55583768e+00,  -3.47828377e+00,  -1.04289608e+01],\n",
       "       [  1.08905359e+00,   3.06721696e+00,  -1.87067536e+01,\n",
       "          1.00948194e+01,   1.48014718e+01,   5.61640833e-01,\n",
       "          1.44177101e+01,   3.88103443e+00,   2.27683771e+01,\n",
       "         -1.22651604e+01,  -3.63695090e+00,  -8.67365895e+00,\n",
       "         -8.99599260e+00,  -4.66163904e-01,   1.93063373e+01,\n",
       "         -1.04308004e+00,   1.23366132e+01,   1.02341787e+01,\n",
       "         -4.65105673e+00,   1.42924243e+01,   1.03734376e+01,\n",
       "         -2.05054609e+00,   2.25784995e+01,   6.55956066e+00,\n",
       "          1.33186173e+01,   1.47311708e-01,   1.75892837e+01,\n",
       "          2.18440177e+01,  -6.92089881e+00,  -3.51215273e+00],\n",
       "       [  6.03600494e-01,   9.67390105e+00,   7.53246949e+00,\n",
       "          1.59687084e+00,   4.61748915e+00,   6.77713632e+00,\n",
       "         -5.43253253e+00,   1.72583567e+01,   2.84295900e+00,\n",
       "          1.19550817e+00,   1.50800951e+00,   1.64031265e+00,\n",
       "         -5.69661750e+00,   1.95480353e+01,   6.50269309e+00,\n",
       "          1.14876814e+00,   7.30387168e+00,   5.79590468e+00,\n",
       "          4.39082606e+00,  -9.95429476e+00,  -1.08452764e+01,\n",
       "          1.48811851e+01,   6.93551257e+00,   1.67010996e+01,\n",
       "         -9.79546810e+00,   4.61700399e+00,  -7.76138304e+00,\n",
       "          2.90922055e+00,   8.24249269e+00,   2.83294580e+00],\n",
       "       [ -6.99610646e+00,  -2.71219963e+00,   8.49394983e+00,\n",
       "          3.02510032e-01,   1.28685115e+01,   9.87797175e+00,\n",
       "          1.01093890e+01,  -5.74383238e+00,   6.81980667e+00,\n",
       "          1.01905795e+01,   1.26377841e+01,  -6.72601256e+00,\n",
       "          3.98998097e+00,   4.23568211e+00,  -1.15372558e+01,\n",
       "         -1.09549377e+01,  -1.19624145e+01,   1.03189467e+00,\n",
       "         -4.30654615e+00,  -2.64909057e+00,   5.48351453e+00,\n",
       "          1.69661623e+01,   8.15499473e+00,   9.95618273e+00,\n",
       "          2.30883795e+00,   1.61484140e-01,   3.14696425e+00,\n",
       "          1.33532280e+01,  -2.28756035e+00,   2.04734155e+01],\n",
       "       [ -3.85837252e+00,   1.25588821e+01,  -1.99274795e+00,\n",
       "         -4.73678154e+00,  -2.08405992e+01,   2.53958747e+01,\n",
       "          5.24792321e+00,   1.47420311e+00,   4.75151568e+00,\n",
       "          7.34132862e+00,   4.04564184e+00,   1.36956623e+01,\n",
       "          6.92477590e+00,  -6.13161053e+00,  -2.69747790e+00,\n",
       "          8.95122236e+00,   7.69730249e+00,   1.08708215e+01,\n",
       "          8.33885987e+00,   7.34515839e+00,   4.93931754e+00,\n",
       "          3.47745471e+00,   5.48319633e+00,   9.18362979e+00,\n",
       "         -4.56005743e+00,  -1.07573174e+01,   1.78011242e+01,\n",
       "          6.23322655e+00,   1.01471151e+01,  -1.04733594e+01],\n",
       "       [  6.91999347e+00,  -8.98242691e+00,   6.34552664e+00,\n",
       "          1.45467689e+01,   5.01226009e+00,  -6.92188733e+00,\n",
       "          2.58797994e+01,  -2.86217649e+00,   1.81569896e+01,\n",
       "          9.52215376e-01,   1.31229544e+01,   8.36760128e+00,\n",
       "          1.57853140e+01,   2.48561959e+00,   1.37672804e+01,\n",
       "          1.27140421e+01,   1.84845244e+01,   3.23250509e+00,\n",
       "          9.57060962e+00,   2.16276563e+00,   1.01650123e+01,\n",
       "          1.55600616e+00,   7.09464116e+00,  -1.18917040e+01,\n",
       "          2.29229786e+01,  -1.03924172e+01,   1.45645980e+01,\n",
       "          1.71753624e+01,   1.55833427e+01,   8.07676775e+00],\n",
       "       [  3.94489198e+00,  -1.48997884e+01,   2.50491756e+01,\n",
       "          3.17094010e+00,   8.49639508e+00,   7.48631775e+00,\n",
       "         -1.04282091e+01,   6.99537310e+00,   1.37425468e+01,\n",
       "          2.80880470e+00,   1.10948451e+01,  -1.14442655e+00,\n",
       "         -4.96209052e+00,   2.70977170e+01,   8.54561118e+00,\n",
       "          8.59425654e+00,   6.89277938e+00,   4.63730512e+00,\n",
       "         -4.19466102e+00,   2.79208042e+00,   1.29713230e+01,\n",
       "         -1.45331430e+01,   1.27279528e+01,  -3.67544586e+00,\n",
       "         -1.31893522e+00,   9.24585216e+00,  -4.34988958e+00,\n",
       "          2.62214482e+01,   2.01056655e+01,  -1.73217752e+01],\n",
       "       [ -4.81658968e+00,   9.81688281e+00,   7.31488651e+00,\n",
       "          1.46580764e+01,   2.86571265e+00,   6.02854453e+00,\n",
       "         -5.59893836e-01,   1.05509565e+01,   1.31214835e+01,\n",
       "          6.01105074e+00,  -1.66612242e-02,   1.08646878e+01,\n",
       "          4.14078052e+00,   1.18198070e+00,   1.32365084e+01,\n",
       "          2.39947842e+00,  -6.50867314e-01,   1.22171338e+01,\n",
       "          3.65367048e+00,   5.82294513e+00,  -3.19278713e+00,\n",
       "          6.62661944e+00,   9.69878586e+00,   1.98159285e+01,\n",
       "          1.67310774e+01,   1.09911047e+00,   1.49644321e+01,\n",
       "          2.98055146e+01,  -1.02395481e+00,   1.24840748e+00],\n",
       "       [  1.66100953e-01,   1.01157288e+01,  -6.55804965e+00,\n",
       "         -1.26580496e+01,   1.40512530e+01,   8.55649561e+00,\n",
       "          8.49724807e+00,   7.17993224e+00,   7.55038652e+00,\n",
       "          1.18996627e+01,   1.80454261e+01,   1.87548262e+01,\n",
       "          1.18510267e+01,  -3.74698860e+00,  -7.55116882e+00,\n",
       "          1.35371072e+00,   2.20138063e+00,  -1.38226050e-01,\n",
       "          1.19222360e+01,  -1.79917520e+00,  -2.82315719e+00,\n",
       "          1.69060864e+01,   1.26188804e+01,   1.06843662e+01,\n",
       "         -1.17916097e+00,  -5.65539784e+00,   9.31714295e+00,\n",
       "          1.69123056e+01,   2.47116923e+01,   6.32213829e+00],\n",
       "       [ -1.15273625e+01,  -5.58172390e+00,   1.23644466e+00,\n",
       "         -6.10886192e+00,   1.55355550e+01,   1.05592625e+01,\n",
       "          1.27223691e+01,   2.14058235e+01,   9.42667887e-01,\n",
       "          1.40846982e+01,   2.86545830e+00,  -5.21773524e+00,\n",
       "          1.85129761e+00,  -7.88847750e+00,   2.17311217e+01,\n",
       "          6.58854228e+00,   5.40739543e+00,   1.89004424e+01,\n",
       "          3.95279329e+00,   1.06587949e+01,   2.35842220e+01,\n",
       "         -9.30303963e+00,  -1.13035826e+01,   8.75384173e+00,\n",
       "          1.40397639e+01,   1.71936583e+01,   1.17714320e+01,\n",
       "         -1.19650338e+01,   2.98433349e+00,  -6.24815092e+00],\n",
       "       [ -8.11163883e+00,   7.23733978e+00,   1.09110788e+01,\n",
       "          3.80459214e+00,   7.17651672e-01,   1.68737935e+00,\n",
       "          8.95066750e+00,  -7.76041844e+00,   2.74474397e+00,\n",
       "          9.97950418e+00,   2.31711499e+01,  -5.14197076e+00,\n",
       "          7.45891851e+00,   1.50886709e+01,  -1.83267957e+01,\n",
       "          1.92576964e+01,   1.41252974e+01,   1.31512782e+01,\n",
       "          1.66482727e+01,  -9.93699254e+00,   6.94011187e+00,\n",
       "          2.00258362e+01,   8.45546894e+00,   1.57296884e+01,\n",
       "          1.93330740e+00,  -1.65946181e+00,  -5.79097697e+00,\n",
       "          1.25680511e+01,   9.96272109e+00,   3.05848864e+01],\n",
       "       [  7.92723879e+00,   1.29355546e+01,   5.56443326e+00,\n",
       "         -1.11474019e+01,   7.98424942e-01,  -5.09174590e+00,\n",
       "          7.46173120e+00,  -1.50492220e+01,   1.28889675e+01,\n",
       "          1.61650832e+01,   3.74064261e+00,  -1.14484033e+01,\n",
       "          6.03947087e+00,   7.13021546e-01,   1.40065698e+01,\n",
       "          6.99864508e+00,   5.03846994e+00,   7.52591681e+00,\n",
       "         -5.90447820e+00,   8.30613004e+00,  -1.16814641e+01,\n",
       "         -3.98458591e+00,  -8.76804258e+00,  -1.25525146e+01,\n",
       "          1.93672945e+01,   1.03811740e+01,   7.28821553e+00,\n",
       "          1.31091113e+01,   1.73995048e+01,   5.57797895e+00],\n",
       "       [ -1.23431046e+00,   1.60964429e+01,   9.58085344e+00,\n",
       "         -8.62081700e+00,  -5.86686341e+00,  -5.00848284e+00,\n",
       "          1.60886955e+01,   2.06023849e+00,  -3.86977487e-01,\n",
       "         -3.21281512e+00,   1.61576294e+01,   1.31641147e+01,\n",
       "          1.07124978e+01,   4.89671715e+00,   6.11246906e+00,\n",
       "         -9.43207477e+00,  -1.51998635e+01,   1.35768899e+01,\n",
       "          3.29089465e+00,   3.82671115e+00,   1.77993266e+00,\n",
       "          1.33394942e+01,   1.25729195e+01,   1.30377588e+01,\n",
       "          9.57481467e+00,   4.04772836e+00,   5.27333052e-02,\n",
       "          1.07280787e+01,   1.31288456e+01,   5.39028213e+00],\n",
       "       [  1.48192962e+01,  -2.10393515e+00,   5.22080910e+00,\n",
       "          4.11138344e+00,   9.79721918e+00,   1.21501851e+01,\n",
       "          1.62888039e+01,  -3.40012187e+00,  -1.87556991e+00,\n",
       "         -2.34353736e+01,   1.55933295e+01,   1.01231441e+00,\n",
       "         -7.68296042e-01,   7.03856409e+00,   5.90638875e+00,\n",
       "          1.24779678e+01,   1.61630950e+01,  -1.92585022e+00,\n",
       "          1.58683157e+01,   9.64475213e+00,  -1.63469352e+00,\n",
       "          1.04691393e+01,   2.05715269e+00,   3.19812911e+00,\n",
       "         -8.45346508e+00,   7.91618836e-01,  -1.23649919e+01,\n",
       "          1.71077858e+01,   1.55540810e+01,   2.19764511e+01],\n",
       "       [  9.00234882e+00,   2.15858719e+01,  -2.89248038e+00,\n",
       "          2.27152132e+00,   4.15554727e+00,   5.84380954e+00,\n",
       "          1.06364842e+01,   7.29750226e+00,   1.25111203e+01,\n",
       "          1.36381541e+01,  -1.60265909e+00,  -9.46073823e+00,\n",
       "          4.19616817e+00,  -6.33719002e+00,   1.71339409e+01,\n",
       "          1.24523872e+01,   1.84139399e+00,  -1.79703654e+00,\n",
       "          9.77026729e+00,   1.12564459e+01,   5.96906854e+00,\n",
       "         -1.25531025e+00,   3.37374742e+00,   7.43707193e+00,\n",
       "          1.42114942e+01,   3.38792224e+00,   6.37108795e+00,\n",
       "          1.08830019e+01,   1.81751357e+01,   6.99503919e+00],\n",
       "       [  1.79603539e+01,   9.34385260e+00,  -9.76705254e+00,\n",
       "          1.27822436e+01,  -2.69447525e+00,   1.31637564e+01,\n",
       "          2.50550054e+00,   1.10064832e+01,  -9.89029334e+00,\n",
       "         -4.29899217e+00,  -1.50395453e+01,   6.07741871e+00,\n",
       "          2.23260182e+01,   4.21891367e+00,   4.45263557e+00,\n",
       "          6.36569031e+00,   9.39096978e+00,   2.01180380e+00,\n",
       "          6.77916671e+00,   3.40165043e+00,  -9.51535735e-01,\n",
       "         -2.63992203e+00,  -6.36280801e+00,   1.30489184e+00,\n",
       "          4.64141303e+00,  -8.53409332e+00,  -4.51121174e-02,\n",
       "          3.66693524e+00,   2.27391602e+01,   9.86753638e+00],\n",
       "       [  9.17957904e+00,  -1.09447482e+00,   7.10078397e+00,\n",
       "          1.79266096e+01,  -2.06308155e+00,   1.01892835e+01,\n",
       "         -5.09509125e+00,   7.62336837e+00,   1.34956563e+01,\n",
       "         -1.32946297e+01,  -2.36661000e+00,   2.06531079e+01,\n",
       "          7.63001415e-01,  -1.84630032e+00,   1.43933914e+00,\n",
       "          1.42572132e+01,   5.55347374e+00,   1.42200372e+01,\n",
       "          5.55045126e+00,   1.42910380e+01,   8.58372932e+00,\n",
       "          1.09137463e+00,  -5.94132319e+00,  -1.27712328e+01,\n",
       "         -9.16130108e-01,   6.14185030e+00,   5.98566711e+00,\n",
       "          1.89523808e+01,   1.51887352e+01,  -1.62868828e+00],\n",
       "       [  1.23732839e+01,   6.95228383e+00,  -5.26880255e+00,\n",
       "         -4.20526250e+00,   7.24905893e+00,   5.07334328e+00,\n",
       "         -3.19148733e-01,   1.30051421e+00,   1.85489956e+01,\n",
       "         -7.03463645e+00,   8.83075663e+00,  -2.35494034e+00,\n",
       "          1.16700548e+01,   6.58758077e+00,   9.21416751e+00,\n",
       "          3.89817852e-01,   1.91122317e+01,   1.41999251e+01,\n",
       "          1.25375897e+01,   1.13084413e+01,   1.20005487e+01,\n",
       "          5.43301447e+00,  -6.71083398e+00,  -2.49977716e+00,\n",
       "          4.30782053e+00,   9.65068198e+00,   1.30700247e+01,\n",
       "          1.11966739e+01,   1.25446055e+01,   1.22427110e+01],\n",
       "       [  1.41415510e+01,   1.39957098e+01,   9.03038761e+00,\n",
       "          7.82701091e+00,   1.54862274e+01,   2.01747092e+01,\n",
       "         -9.14705621e-01,   5.97833706e+00,   6.81033456e+00,\n",
       "          3.25435792e+00,  -1.56724414e+01,   1.20629126e+01,\n",
       "          1.44729713e+01,   3.17662649e+00,  -3.95491659e+00,\n",
       "          3.74517010e+00,   1.32422126e+01,   4.06083890e+00,\n",
       "          2.65266094e+01,   7.83216425e+00,   8.96823752e+00,\n",
       "         -2.06913841e-02,  -3.81755289e+00,   1.82480556e+01,\n",
       "         -1.08730483e+01,   1.27628758e+01,  -4.86807098e+00,\n",
       "          7.48886525e+00,  -2.39253490e+00,  -1.16718849e+01],\n",
       "       [ -1.29924376e+00,  -5.15552206e+00,   1.07933393e+01,\n",
       "          1.77972252e+01,   2.94465976e+00,   4.95669458e+00,\n",
       "          1.04861463e+01,   6.79744643e+00,   9.39553017e+00,\n",
       "         -8.01359625e+00,   2.87849140e+00,  -7.53445772e-01,\n",
       "          4.38012670e+00,   2.68757044e+00,   6.82719201e+00,\n",
       "         -9.32253496e+00,  -1.38316547e+01,   6.11706056e+00,\n",
       "          1.64951372e+01,   1.52412819e+01,   1.60818131e+01,\n",
       "         -3.89753682e+00,   1.60710846e+01,   9.17811047e+00,\n",
       "          1.33463066e+01,   1.64177256e+00,   6.93901136e+00,\n",
       "          3.55182821e+00,   2.20558848e+01,   2.82695454e+01],\n",
       "       [  3.46165330e-01,   1.51798379e+01,  -1.12125006e+01,\n",
       "          1.51426993e+01,   4.37316958e+00,   7.89408294e+00,\n",
       "          7.52784337e+00,   6.75932097e+00,   5.86149815e+00,\n",
       "          2.92140299e+01,   5.17231747e-01,   2.15354700e+01,\n",
       "          7.36742013e+00,   1.58205314e+00,   1.60717428e+01,\n",
       "         -7.97426165e+00,   2.93241514e+00,  -7.86341177e-01,\n",
       "          1.07143999e+01,   8.21648204e+00,   1.48181616e+01,\n",
       "          2.40003209e-01,  -6.74450789e-01,  -9.04742700e+00,\n",
       "          1.33410757e+00,   3.00023122e+00,   1.49702557e+00,\n",
       "          3.62255335e+00,   3.02016501e-01,   1.54540358e+01],\n",
       "       [  1.74654737e+01,   7.78788749e+00,   1.98038560e+00,\n",
       "          7.41451266e+00,   7.09202735e+00,   5.85076058e-01,\n",
       "         -5.16047707e-01,   1.20094383e+01,  -4.44420326e+00,\n",
       "         -1.48232509e+01,  -8.88960003e+00,   2.10428897e+00,\n",
       "          7.17610133e+00,  -4.80082361e+00,  -7.66655426e-02,\n",
       "          1.58361254e+01,  -1.73842910e+00,  -8.05483816e+00,\n",
       "          1.19672139e+01,   1.44817874e+00,   7.46805082e+00,\n",
       "          4.14990010e+00,   3.95139076e+00,   1.73995087e+01,\n",
       "          2.05257165e+00,   2.35683986e+00,   2.35804535e+00,\n",
       "          3.13629452e+00,   3.89320579e+00,  -4.39662592e+00],\n",
       "       [  7.28699822e+00,   1.16049501e+01,   2.83188269e+01,\n",
       "          1.66255138e+01,   5.67695689e+00,   3.68669909e+00,\n",
       "         -5.22324267e-01,   1.24809751e+01,   3.87220919e+00,\n",
       "          1.58643559e+01,  -3.36273054e+00,   1.85247414e+01,\n",
       "          3.31539059e+00,   8.33906477e+00,  -2.13626216e+00,\n",
       "          2.09880753e+00,   4.04597063e+00,   1.02575828e+01,\n",
       "          1.18443872e+01,   1.90334200e+01,  -1.69542963e+00,\n",
       "          1.93528770e+01,   5.43036762e+00,   9.38762145e+00,\n",
       "         -7.24831528e-01,   3.50005133e+00,   5.69875763e+00,\n",
       "          7.87435202e+00,   1.54262729e+01,   5.27616242e+00],\n",
       "       [ -6.03205537e+00,   7.50686898e-01,   9.00606901e+00,\n",
       "         -2.11183118e+01,  -1.22718790e+01,   4.18561380e+00,\n",
       "         -2.78057549e+00,  -4.27632486e+00,   9.81188053e+00,\n",
       "          5.47414987e+00,   1.11752241e+01,  -7.12269582e+00,\n",
       "          6.23933330e+00,  -3.72718840e+00,  -2.33606831e+00,\n",
       "          1.36202172e+01,  -1.93433081e+01,  -8.98685652e+00,\n",
       "         -1.50830067e+01,   2.29946536e+01,  -3.06783265e+00,\n",
       "          1.49317087e+01,   7.04565821e+00,   6.59580328e-01,\n",
       "          1.19623505e+01,  -5.38645468e+00,   1.14943258e+01,\n",
       "          6.28460490e+00,   1.11074732e+01,  -1.43002603e+00],\n",
       "       [  7.51730585e+00,   1.16979619e+01,   1.33260983e+01,\n",
       "          1.91609134e+01,   4.64505506e+00,  -4.76035846e+00,\n",
       "          1.38872142e+01,   2.23470284e+00,   6.86733543e+00,\n",
       "          1.36869257e+00,   1.23619200e-01,   9.97643426e+00,\n",
       "          1.21169206e+01,   8.19513158e+00,   8.91653494e+00,\n",
       "          4.51685175e+00,   1.07667800e+01,  -3.18902177e+00,\n",
       "          9.84275395e+00,   1.64522812e+01,   1.95917123e+01,\n",
       "          9.71220839e-01,   5.28959256e+00,   6.38380302e+00,\n",
       "          2.61137172e+00,   8.84375438e+00,  -1.02886795e+01,\n",
       "          3.86323944e+00,   5.23756696e+00,   1.63730338e+01],\n",
       "       [  8.15727086e+00,   6.13036121e+00,   2.11778239e+00,\n",
       "          7.41443177e+00,   1.04609561e+01,   3.55966374e+00,\n",
       "          8.62263420e+00,   7.74250629e+00,   2.39527016e+00,\n",
       "         -1.30111482e+01,   6.04605198e+00,   1.35841149e+01,\n",
       "          2.03147333e+01,   3.49482077e+00,   6.08608569e+00,\n",
       "          2.39336960e+00,   1.29104363e+01,   1.02716062e+01,\n",
       "          6.27395336e+00,  -1.46379873e+01,   1.42684963e+01,\n",
       "          7.53175114e+00,   1.56749472e+01,   6.30341365e+00,\n",
       "          2.22697895e+01,   1.34159794e+01,   1.39790190e+00,\n",
       "          8.83109783e+00,   1.10323154e+01,  -6.11301354e+00],\n",
       "       [  4.36045967e+00,   6.42749483e+00,   1.26018281e+01,\n",
       "         -1.16155415e+00,  -2.50280144e+01,  -3.51579508e+00,\n",
       "          1.99016481e+00,  -6.24426816e+00,   2.47470605e+00,\n",
       "          6.06924758e+00,  -1.03865920e+01,   6.19935789e+00,\n",
       "         -5.19750707e+00,   9.59432125e+00,   8.78043552e-01,\n",
       "         -1.43744756e+01,   1.20504469e+01,   8.01117608e+00,\n",
       "          1.82780439e+01,  -8.11506128e+00,   3.09733143e+00,\n",
       "          2.67759058e+00,  -3.11844584e+00,   1.01067405e+00,\n",
       "          1.33229399e+01,  -3.75028945e+00,   5.54540075e+00,\n",
       "          1.11745241e+01,   3.61142360e-01,   8.44474607e+00],\n",
       "       [ -9.67469073e+00,   1.40082292e+01,   2.78883264e+00,\n",
       "         -2.69198704e+00,  -3.23517103e+00,   4.97287199e+00,\n",
       "          7.36237379e+00,  -4.36091431e+00,  -4.85189289e+00,\n",
       "         -4.18139504e+00,   7.19104963e+00,   7.38753907e+00,\n",
       "         -3.44932890e+00,   4.40306440e+00,   8.76368490e+00,\n",
       "         -1.56268988e+00,  -1.78131521e+01,   4.24733367e+00,\n",
       "          1.29255682e+01,   8.43377338e+00,   6.05568129e+00,\n",
       "         -6.97685587e+00,  -6.31310032e+00,   1.19449088e+01,\n",
       "          7.54698643e-01,  -5.19018006e+00,  -4.25410999e+00,\n",
       "         -7.06777252e+00,   4.22208423e+00,   5.82930968e+00]])"
      ]
     },
     "execution_count": 40,
     "metadata": {},
     "output_type": "execute_result"
    }
   ],
   "source": [
    "# for a different Normal Distribution, use np.random.normal\n",
    "rm = np.random.normal(5,9,(30,30))\n",
    "rm"
   ]
  },
  {
   "cell_type": "code",
   "execution_count": 39,
   "metadata": {
    "collapsed": false
   },
   "outputs": [
    {
     "name": "stdout",
     "output_type": "stream",
     "text": [
      "5.11601940972 which is hopefully close to the input mean\n",
      "85.5776893481 which variance = stdev squared\n",
      "5.12593741208\n"
     ]
    }
   ],
   "source": [
    "print rm.mean(), \"which is hopefully close to the input mean\"\n",
    "print rm.var(), \"which variance = stdev squared\"\n",
    "print np.median(rm)"
   ]
  },
  {
   "cell_type": "code",
   "execution_count": null,
   "metadata": {
    "collapsed": true
   },
   "outputs": [],
   "source": []
  },
  {
   "cell_type": "markdown",
   "metadata": {},
   "source": [
    "Find more distributions and random functions here: http://docs.scipy.org/doc/numpy/reference/routines.random.html"
   ]
  },
  {
   "cell_type": "markdown",
   "metadata": {},
   "source": [
    "### Exercise 1"
   ]
  },
  {
   "cell_type": "markdown",
   "metadata": {},
   "source": [
    "1) Create a 4x5 array of integers between 0 and 19"
   ]
  },
  {
   "cell_type": "code",
   "execution_count": 43,
   "metadata": {
    "collapsed": false
   },
   "outputs": [
    {
     "data": {
      "text/plain": [
       "array([[ 0,  1,  2,  3,  4],\n",
       "       [ 5,  6,  7,  8,  9],\n",
       "       [10, 11, 12, 13, 14],\n",
       "       [15, 16, 17, 18, 19]])"
      ]
     },
     "execution_count": 43,
     "metadata": {},
     "output_type": "execute_result"
    }
   ],
   "source": [
    "first = np.arange(20).reshape(4,5)\n",
    "first"
   ]
  },
  {
   "cell_type": "markdown",
   "metadata": {},
   "source": [
    "2) Create a 50x500 array with a mean of 20 and variance of 100. Save it to a variable called  biggie"
   ]
  },
  {
   "cell_type": "code",
   "execution_count": 47,
   "metadata": {
    "collapsed": false
   },
   "outputs": [
    {
     "name": "stdout",
     "output_type": "stream",
     "text": [
      "19.8969182077\n",
      "99.5770926926\n"
     ]
    }
   ],
   "source": [
    "biggie = np.random.normal(20,10,(50,500))\n",
    "print biggie.mean()\n",
    "print biggie.var()"
   ]
  },
  {
   "cell_type": "markdown",
   "metadata": {},
   "source": [
    "3) Change the mean of the array to a value within 1 of 0 and the variance within 1 of 25. Think about what the mean and the variance represent and try using various mathematical operations."
   ]
  },
  {
   "cell_type": "code",
   "execution_count": 60,
   "metadata": {
    "collapsed": false
   },
   "outputs": [
    {
     "name": "stdout",
     "output_type": "stream",
     "text": [
      "-1.08002495836e-16\n",
      "25.0\n"
     ]
    }
   ],
   "source": [
    "biggie2 = (biggie - biggie.mean()) / (np.sqrt(biggie.var())/5)\n",
    "print biggie2.mean()\n",
    "print biggie2.var()"
   ]
  },
  {
   "cell_type": "markdown",
   "metadata": {},
   "source": [
    "## Pandas (python package)\n",
    "\n",
    "Pandas is a Python package providing fast, flexible, and expressive data structures designed to make working with “relational” or “labeled” data both easy and intuitive.\n",
    "\n",
    "Pandas is great for tabular/indexed data"
   ]
  },
  {
   "cell_type": "code",
   "execution_count": 61,
   "metadata": {
    "collapsed": true
   },
   "outputs": [],
   "source": [
    "# NOTE: you should normally put all your imports at the top of the file\n",
    "import pandas as pd"
   ]
  },
  {
   "cell_type": "code",
   "execution_count": 62,
   "metadata": {
    "collapsed": false
   },
   "outputs": [],
   "source": [
    "data = pd.read_csv('../data/nytimes.csv')"
   ]
  },
  {
   "cell_type": "code",
   "execution_count": 63,
   "metadata": {
    "collapsed": false
   },
   "outputs": [
    {
     "data": {
      "text/html": [
       "<div>\n",
       "<table border=\"1\" class=\"dataframe\">\n",
       "  <thead>\n",
       "    <tr style=\"text-align: right;\">\n",
       "      <th></th>\n",
       "      <th>Age</th>\n",
       "      <th>Gender</th>\n",
       "      <th>Impressions</th>\n",
       "      <th>Clicks</th>\n",
       "      <th>Signed_In</th>\n",
       "    </tr>\n",
       "  </thead>\n",
       "  <tbody>\n",
       "    <tr>\n",
       "      <th>0</th>\n",
       "      <td>36</td>\n",
       "      <td>0</td>\n",
       "      <td>3</td>\n",
       "      <td>0</td>\n",
       "      <td>1</td>\n",
       "    </tr>\n",
       "    <tr>\n",
       "      <th>1</th>\n",
       "      <td>73</td>\n",
       "      <td>1</td>\n",
       "      <td>3</td>\n",
       "      <td>0</td>\n",
       "      <td>1</td>\n",
       "    </tr>\n",
       "    <tr>\n",
       "      <th>2</th>\n",
       "      <td>30</td>\n",
       "      <td>0</td>\n",
       "      <td>3</td>\n",
       "      <td>0</td>\n",
       "      <td>1</td>\n",
       "    </tr>\n",
       "    <tr>\n",
       "      <th>3</th>\n",
       "      <td>49</td>\n",
       "      <td>1</td>\n",
       "      <td>3</td>\n",
       "      <td>0</td>\n",
       "      <td>1</td>\n",
       "    </tr>\n",
       "  </tbody>\n",
       "</table>\n",
       "</div>"
      ],
      "text/plain": [
       "   Age  Gender  Impressions  Clicks  Signed_In\n",
       "0   36       0            3       0          1\n",
       "1   73       1            3       0          1\n",
       "2   30       0            3       0          1\n",
       "3   49       1            3       0          1"
      ]
     },
     "execution_count": 63,
     "metadata": {},
     "output_type": "execute_result"
    }
   ],
   "source": [
    "# Note here we're calling the head method on the dataframe to return the 'head' of the \n",
    "# dataframe, in this case the first 4 lines\n",
    "# head() actually creates a new copy of the data, this is important later in the course!\n",
    "data.head(4)"
   ]
  },
  {
   "cell_type": "code",
   "execution_count": 64,
   "metadata": {
    "collapsed": false
   },
   "outputs": [
    {
     "data": {
      "text/html": [
       "<div>\n",
       "<table border=\"1\" class=\"dataframe\">\n",
       "  <thead>\n",
       "    <tr style=\"text-align: right;\">\n",
       "      <th></th>\n",
       "      <th>Age</th>\n",
       "      <th>Gender</th>\n",
       "      <th>Impressions</th>\n",
       "      <th>Clicks</th>\n",
       "      <th>Signed_In</th>\n",
       "    </tr>\n",
       "  </thead>\n",
       "  <tbody>\n",
       "    <tr>\n",
       "      <th>0</th>\n",
       "      <td>36</td>\n",
       "      <td>0</td>\n",
       "      <td>3</td>\n",
       "      <td>0</td>\n",
       "      <td>1</td>\n",
       "    </tr>\n",
       "    <tr>\n",
       "      <th>1</th>\n",
       "      <td>73</td>\n",
       "      <td>1</td>\n",
       "      <td>3</td>\n",
       "      <td>0</td>\n",
       "      <td>1</td>\n",
       "    </tr>\n",
       "    <tr>\n",
       "      <th>2</th>\n",
       "      <td>30</td>\n",
       "      <td>0</td>\n",
       "      <td>3</td>\n",
       "      <td>0</td>\n",
       "      <td>1</td>\n",
       "    </tr>\n",
       "    <tr>\n",
       "      <th>3</th>\n",
       "      <td>49</td>\n",
       "      <td>1</td>\n",
       "      <td>3</td>\n",
       "      <td>0</td>\n",
       "      <td>1</td>\n",
       "    </tr>\n",
       "  </tbody>\n",
       "</table>\n",
       "</div>"
      ],
      "text/plain": [
       "   Age  Gender  Impressions  Clicks  Signed_In\n",
       "0   36       0            3       0          1\n",
       "1   73       1            3       0          1\n",
       "2   30       0            3       0          1\n",
       "3   49       1            3       0          1"
      ]
     },
     "execution_count": 64,
     "metadata": {},
     "output_type": "execute_result"
    }
   ],
   "source": [
    "data[0:4]"
   ]
  },
  {
   "cell_type": "code",
   "execution_count": 65,
   "metadata": {
    "collapsed": false
   },
   "outputs": [
    {
     "data": {
      "text/plain": [
       "Int64Index([     0,      1,      2,      3,      4,      5,      6,      7,\n",
       "                 8,      9, \n",
       "            ...\n",
       "            458431, 458432, 458433, 458434, 458435, 458436, 458437, 458438,\n",
       "            458439, 458440],\n",
       "           dtype='int64', length=458441)"
      ]
     },
     "execution_count": 65,
     "metadata": {},
     "output_type": "execute_result"
    }
   ],
   "source": [
    "# Each DataFrame has an index\n",
    "# Sometimes you will need to reindex\n",
    "data.index"
   ]
  },
  {
   "cell_type": "code",
   "execution_count": 66,
   "metadata": {
    "collapsed": false
   },
   "outputs": [
    {
     "data": {
      "text/plain": [
       "0         36\n",
       "1         73\n",
       "2         30\n",
       "3         49\n",
       "4         47\n",
       "5         47\n",
       "6          0\n",
       "7         46\n",
       "8         16\n",
       "9         52\n",
       "10         0\n",
       "11        21\n",
       "12         0\n",
       "13        57\n",
       "14        31\n",
       "15         0\n",
       "16        40\n",
       "17        31\n",
       "18        38\n",
       "19         0\n",
       "20        59\n",
       "21        61\n",
       "22        48\n",
       "23        29\n",
       "24         0\n",
       "25        19\n",
       "26        19\n",
       "27        48\n",
       "28        48\n",
       "29        21\n",
       "          ..\n",
       "458411    55\n",
       "458412    68\n",
       "458413     0\n",
       "458414    21\n",
       "458415    35\n",
       "458416    26\n",
       "458417    41\n",
       "458418    58\n",
       "458419    46\n",
       "458420    45\n",
       "458421    46\n",
       "458422    47\n",
       "458423    22\n",
       "458424    21\n",
       "458425    40\n",
       "458426    49\n",
       "458427    43\n",
       "458428    40\n",
       "458429    49\n",
       "458430     0\n",
       "458431    21\n",
       "458432    30\n",
       "458433    21\n",
       "458434    61\n",
       "458435    51\n",
       "458436     0\n",
       "458437     0\n",
       "458438    72\n",
       "458439     0\n",
       "458440     0\n",
       "Name: Age, dtype: int64"
      ]
     },
     "execution_count": 66,
     "metadata": {},
     "output_type": "execute_result"
    }
   ],
   "source": [
    "# This is a Series\n",
    "# A DataFrame is made of of several Series with the same index\n",
    "data.Age"
   ]
  },
  {
   "cell_type": "code",
   "execution_count": 67,
   "metadata": {
    "collapsed": false
   },
   "outputs": [
    {
     "name": "stdout",
     "output_type": "stream",
     "text": [
      "<class 'pandas.core.frame.DataFrame'>\n",
      "Int64Index: 458441 entries, 0 to 458440\n",
      "Data columns (total 5 columns):\n",
      "Age            458441 non-null int64\n",
      "Gender         458441 non-null int64\n",
      "Impressions    458441 non-null int64\n",
      "Clicks         458441 non-null int64\n",
      "Signed_In      458441 non-null int64\n",
      "dtypes: int64(5)\n",
      "memory usage: 21.0 MB\n"
     ]
    }
   ],
   "source": [
    "data.info()"
   ]
  },
  {
   "cell_type": "code",
   "execution_count": 68,
   "metadata": {
    "collapsed": false
   },
   "outputs": [
    {
     "data": {
      "text/html": [
       "<div>\n",
       "<table border=\"1\" class=\"dataframe\">\n",
       "  <thead>\n",
       "    <tr style=\"text-align: right;\">\n",
       "      <th></th>\n",
       "      <th>Age</th>\n",
       "      <th>Gender</th>\n",
       "      <th>Impressions</th>\n",
       "      <th>Clicks</th>\n",
       "      <th>Signed_In</th>\n",
       "    </tr>\n",
       "  </thead>\n",
       "  <tbody>\n",
       "    <tr>\n",
       "      <th>count</th>\n",
       "      <td>458441.000000</td>\n",
       "      <td>458441.000000</td>\n",
       "      <td>458441.000000</td>\n",
       "      <td>458441.000000</td>\n",
       "      <td>458441.000000</td>\n",
       "    </tr>\n",
       "    <tr>\n",
       "      <th>mean</th>\n",
       "      <td>29.482551</td>\n",
       "      <td>0.367037</td>\n",
       "      <td>5.007316</td>\n",
       "      <td>0.092594</td>\n",
       "      <td>0.700930</td>\n",
       "    </tr>\n",
       "    <tr>\n",
       "      <th>std</th>\n",
       "      <td>23.607034</td>\n",
       "      <td>0.481997</td>\n",
       "      <td>2.239349</td>\n",
       "      <td>0.309973</td>\n",
       "      <td>0.457851</td>\n",
       "    </tr>\n",
       "    <tr>\n",
       "      <th>min</th>\n",
       "      <td>0.000000</td>\n",
       "      <td>0.000000</td>\n",
       "      <td>0.000000</td>\n",
       "      <td>0.000000</td>\n",
       "      <td>0.000000</td>\n",
       "    </tr>\n",
       "    <tr>\n",
       "      <th>25%</th>\n",
       "      <td>0.000000</td>\n",
       "      <td>0.000000</td>\n",
       "      <td>3.000000</td>\n",
       "      <td>0.000000</td>\n",
       "      <td>0.000000</td>\n",
       "    </tr>\n",
       "    <tr>\n",
       "      <th>50%</th>\n",
       "      <td>31.000000</td>\n",
       "      <td>0.000000</td>\n",
       "      <td>5.000000</td>\n",
       "      <td>0.000000</td>\n",
       "      <td>1.000000</td>\n",
       "    </tr>\n",
       "    <tr>\n",
       "      <th>75%</th>\n",
       "      <td>48.000000</td>\n",
       "      <td>1.000000</td>\n",
       "      <td>6.000000</td>\n",
       "      <td>0.000000</td>\n",
       "      <td>1.000000</td>\n",
       "    </tr>\n",
       "    <tr>\n",
       "      <th>max</th>\n",
       "      <td>108.000000</td>\n",
       "      <td>1.000000</td>\n",
       "      <td>20.000000</td>\n",
       "      <td>4.000000</td>\n",
       "      <td>1.000000</td>\n",
       "    </tr>\n",
       "  </tbody>\n",
       "</table>\n",
       "</div>"
      ],
      "text/plain": [
       "                 Age         Gender    Impressions         Clicks  \\\n",
       "count  458441.000000  458441.000000  458441.000000  458441.000000   \n",
       "mean       29.482551       0.367037       5.007316       0.092594   \n",
       "std        23.607034       0.481997       2.239349       0.309973   \n",
       "min         0.000000       0.000000       0.000000       0.000000   \n",
       "25%         0.000000       0.000000       3.000000       0.000000   \n",
       "50%        31.000000       0.000000       5.000000       0.000000   \n",
       "75%        48.000000       1.000000       6.000000       0.000000   \n",
       "max       108.000000       1.000000      20.000000       4.000000   \n",
       "\n",
       "           Signed_In  \n",
       "count  458441.000000  \n",
       "mean        0.700930  \n",
       "std         0.457851  \n",
       "min         0.000000  \n",
       "25%         0.000000  \n",
       "50%         1.000000  \n",
       "75%         1.000000  \n",
       "max         1.000000  "
      ]
     },
     "execution_count": 68,
     "metadata": {},
     "output_type": "execute_result"
    }
   ],
   "source": [
    "data.describe()"
   ]
  },
  {
   "cell_type": "code",
   "execution_count": 70,
   "metadata": {
    "collapsed": false
   },
   "outputs": [
    {
     "name": "stdout",
     "output_type": "stream",
     "text": [
      "[36 73 30 ..., 72  0  0]\n"
     ]
    }
   ],
   "source": [
    "# We can change this data into numpy\n",
    "type(data.Age.values)\n",
    "print data.Age.values"
   ]
  },
  {
   "cell_type": "markdown",
   "metadata": {},
   "source": [
    "#### Just like in numpy, we can use mean, var, and other functions on the data"
   ]
  },
  {
   "cell_type": "code",
   "execution_count": 71,
   "metadata": {
    "collapsed": false
   },
   "outputs": [
    {
     "name": "stdout",
     "output_type": "stream",
     "text": [
      "29.4825506445\n",
      "557.292044027\n",
      "108\n",
      "0\n"
     ]
    }
   ],
   "source": [
    "print data.Age.mean()\n",
    "print data.Age.var()\n",
    "print data.Age.max()\n",
    "print data.Age.min()"
   ]
  },
  {
   "cell_type": "code",
   "execution_count": 72,
   "metadata": {
    "collapsed": true
   },
   "outputs": [],
   "source": [
    "# Function that groups users by age.\n",
    "def map_age_category(x):\n",
    "    if x < 18:\n",
    "        return '1'\n",
    "    elif x < 25:\n",
    "        return '2'\n",
    "    elif x < 32:\n",
    "        return '3'\n",
    "    elif x < 45:\n",
    "        return '4'\n",
    "    else:\n",
    "        return '5'\n",
    "\n",
    "data['age_categories'] = data['Age'].apply(map_age_category)"
   ]
  },
  {
   "cell_type": "code",
   "execution_count": 73,
   "metadata": {
    "collapsed": false
   },
   "outputs": [
    {
     "data": {
      "text/html": [
       "<div>\n",
       "<table border=\"1\" class=\"dataframe\">\n",
       "  <thead>\n",
       "    <tr style=\"text-align: right;\">\n",
       "      <th></th>\n",
       "      <th>Age</th>\n",
       "      <th>Gender</th>\n",
       "      <th>Impressions</th>\n",
       "      <th>Clicks</th>\n",
       "      <th>Signed_In</th>\n",
       "      <th>age_categories</th>\n",
       "    </tr>\n",
       "  </thead>\n",
       "  <tbody>\n",
       "    <tr>\n",
       "      <th>0</th>\n",
       "      <td>36</td>\n",
       "      <td>0</td>\n",
       "      <td>3</td>\n",
       "      <td>0</td>\n",
       "      <td>1</td>\n",
       "      <td>4</td>\n",
       "    </tr>\n",
       "    <tr>\n",
       "      <th>1</th>\n",
       "      <td>73</td>\n",
       "      <td>1</td>\n",
       "      <td>3</td>\n",
       "      <td>0</td>\n",
       "      <td>1</td>\n",
       "      <td>5</td>\n",
       "    </tr>\n",
       "    <tr>\n",
       "      <th>2</th>\n",
       "      <td>30</td>\n",
       "      <td>0</td>\n",
       "      <td>3</td>\n",
       "      <td>0</td>\n",
       "      <td>1</td>\n",
       "      <td>3</td>\n",
       "    </tr>\n",
       "    <tr>\n",
       "      <th>3</th>\n",
       "      <td>49</td>\n",
       "      <td>1</td>\n",
       "      <td>3</td>\n",
       "      <td>0</td>\n",
       "      <td>1</td>\n",
       "      <td>5</td>\n",
       "    </tr>\n",
       "    <tr>\n",
       "      <th>4</th>\n",
       "      <td>47</td>\n",
       "      <td>1</td>\n",
       "      <td>11</td>\n",
       "      <td>0</td>\n",
       "      <td>1</td>\n",
       "      <td>5</td>\n",
       "    </tr>\n",
       "  </tbody>\n",
       "</table>\n",
       "</div>"
      ],
      "text/plain": [
       "   Age  Gender  Impressions  Clicks  Signed_In age_categories\n",
       "0   36       0            3       0          1              4\n",
       "1   73       1            3       0          1              5\n",
       "2   30       0            3       0          1              3\n",
       "3   49       1            3       0          1              5\n",
       "4   47       1           11       0          1              5"
      ]
     },
     "execution_count": 73,
     "metadata": {},
     "output_type": "execute_result"
    }
   ],
   "source": [
    "data.head()"
   ]
  },
  {
   "cell_type": "markdown",
   "metadata": {},
   "source": [
    "#### Sorting data"
   ]
  },
  {
   "cell_type": "code",
   "execution_count": 74,
   "metadata": {
    "collapsed": false
   },
   "outputs": [
    {
     "data": {
      "text/html": [
       "<div>\n",
       "<table border=\"1\" class=\"dataframe\">\n",
       "  <thead>\n",
       "    <tr style=\"text-align: right;\">\n",
       "      <th></th>\n",
       "      <th>age_categories</th>\n",
       "      <th>Signed_In</th>\n",
       "      <th>Impressions</th>\n",
       "      <th>Gender</th>\n",
       "      <th>Clicks</th>\n",
       "      <th>Age</th>\n",
       "    </tr>\n",
       "  </thead>\n",
       "  <tbody>\n",
       "    <tr>\n",
       "      <th>0</th>\n",
       "      <td>4</td>\n",
       "      <td>1</td>\n",
       "      <td>3</td>\n",
       "      <td>0</td>\n",
       "      <td>0</td>\n",
       "      <td>36</td>\n",
       "    </tr>\n",
       "    <tr>\n",
       "      <th>1</th>\n",
       "      <td>5</td>\n",
       "      <td>1</td>\n",
       "      <td>3</td>\n",
       "      <td>1</td>\n",
       "      <td>0</td>\n",
       "      <td>73</td>\n",
       "    </tr>\n",
       "    <tr>\n",
       "      <th>2</th>\n",
       "      <td>3</td>\n",
       "      <td>1</td>\n",
       "      <td>3</td>\n",
       "      <td>0</td>\n",
       "      <td>0</td>\n",
       "      <td>30</td>\n",
       "    </tr>\n",
       "    <tr>\n",
       "      <th>3</th>\n",
       "      <td>5</td>\n",
       "      <td>1</td>\n",
       "      <td>3</td>\n",
       "      <td>1</td>\n",
       "      <td>0</td>\n",
       "      <td>49</td>\n",
       "    </tr>\n",
       "    <tr>\n",
       "      <th>4</th>\n",
       "      <td>5</td>\n",
       "      <td>1</td>\n",
       "      <td>11</td>\n",
       "      <td>1</td>\n",
       "      <td>0</td>\n",
       "      <td>47</td>\n",
       "    </tr>\n",
       "  </tbody>\n",
       "</table>\n",
       "</div>"
      ],
      "text/plain": [
       "  age_categories  Signed_In  Impressions  Gender  Clicks  Age\n",
       "0              4          1            3       0       0   36\n",
       "1              5          1            3       1       0   73\n",
       "2              3          1            3       0       0   30\n",
       "3              5          1            3       1       0   49\n",
       "4              5          1           11       1       0   47"
      ]
     },
     "execution_count": 74,
     "metadata": {},
     "output_type": "execute_result"
    }
   ],
   "source": [
    "data.sort_index(axis=1, ascending=False).head()"
   ]
  },
  {
   "cell_type": "code",
   "execution_count": 75,
   "metadata": {
    "collapsed": false
   },
   "outputs": [
    {
     "data": {
      "text/html": [
       "<div>\n",
       "<table border=\"1\" class=\"dataframe\">\n",
       "  <thead>\n",
       "    <tr style=\"text-align: right;\">\n",
       "      <th></th>\n",
       "      <th>Age</th>\n",
       "      <th>Gender</th>\n",
       "      <th>Impressions</th>\n",
       "      <th>Clicks</th>\n",
       "      <th>Signed_In</th>\n",
       "      <th>age_categories</th>\n",
       "    </tr>\n",
       "  </thead>\n",
       "  <tbody>\n",
       "    <tr>\n",
       "      <th>458440</th>\n",
       "      <td>0</td>\n",
       "      <td>0</td>\n",
       "      <td>3</td>\n",
       "      <td>0</td>\n",
       "      <td>0</td>\n",
       "      <td>1</td>\n",
       "    </tr>\n",
       "    <tr>\n",
       "      <th>149914</th>\n",
       "      <td>0</td>\n",
       "      <td>0</td>\n",
       "      <td>5</td>\n",
       "      <td>0</td>\n",
       "      <td>0</td>\n",
       "      <td>1</td>\n",
       "    </tr>\n",
       "    <tr>\n",
       "      <th>149915</th>\n",
       "      <td>0</td>\n",
       "      <td>0</td>\n",
       "      <td>10</td>\n",
       "      <td>1</td>\n",
       "      <td>0</td>\n",
       "      <td>1</td>\n",
       "    </tr>\n",
       "    <tr>\n",
       "      <th>149916</th>\n",
       "      <td>0</td>\n",
       "      <td>0</td>\n",
       "      <td>6</td>\n",
       "      <td>1</td>\n",
       "      <td>0</td>\n",
       "      <td>1</td>\n",
       "    </tr>\n",
       "    <tr>\n",
       "      <th>353762</th>\n",
       "      <td>0</td>\n",
       "      <td>0</td>\n",
       "      <td>3</td>\n",
       "      <td>0</td>\n",
       "      <td>0</td>\n",
       "      <td>1</td>\n",
       "    </tr>\n",
       "  </tbody>\n",
       "</table>\n",
       "</div>"
      ],
      "text/plain": [
       "        Age  Gender  Impressions  Clicks  Signed_In age_categories\n",
       "458440    0       0            3       0          0              1\n",
       "149914    0       0            5       0          0              1\n",
       "149915    0       0           10       1          0              1\n",
       "149916    0       0            6       1          0              1\n",
       "353762    0       0            3       0          0              1"
      ]
     },
     "execution_count": 75,
     "metadata": {},
     "output_type": "execute_result"
    }
   ],
   "source": [
    "data.sort('Signed_In').head()"
   ]
  },
  {
   "cell_type": "code",
   "execution_count": 76,
   "metadata": {
    "collapsed": false
   },
   "outputs": [
    {
     "data": {
      "text/html": [
       "<div>\n",
       "<table border=\"1\" class=\"dataframe\">\n",
       "  <thead>\n",
       "    <tr style=\"text-align: right;\">\n",
       "      <th></th>\n",
       "      <th>col_a</th>\n",
       "      <th>numeric</th>\n",
       "    </tr>\n",
       "  </thead>\n",
       "  <tbody>\n",
       "    <tr>\n",
       "      <th>0</th>\n",
       "      <td>a</td>\n",
       "      <td>1</td>\n",
       "    </tr>\n",
       "    <tr>\n",
       "      <th>1</th>\n",
       "      <td>b</td>\n",
       "      <td>2</td>\n",
       "    </tr>\n",
       "    <tr>\n",
       "      <th>2</th>\n",
       "      <td>c</td>\n",
       "      <td>3</td>\n",
       "    </tr>\n",
       "  </tbody>\n",
       "</table>\n",
       "</div>"
      ],
      "text/plain": [
       "  col_a  numeric\n",
       "0     a        1\n",
       "1     b        2\n",
       "2     c        3"
      ]
     },
     "execution_count": 76,
     "metadata": {},
     "output_type": "execute_result"
    }
   ],
   "source": [
    "ran_data = [\n",
    "    ['a', 1]\n",
    "    , ['b', 2]\n",
    "    , ['c', 3]\n",
    "]\n",
    "df = pd.DataFrame(ran_data, columns=['col_a', 'numeric'])\n",
    "df"
   ]
  },
  {
   "cell_type": "markdown",
   "metadata": {},
   "source": [
    "#### Indexing functions\n",
    "\n",
    "Pandas Dataframes support various methods for indexing:\n",
    "\n",
    "- .iloc\n",
    "- .loc\n",
    "- .ix"
   ]
  },
  {
   "cell_type": "code",
   "execution_count": 77,
   "metadata": {
    "collapsed": false
   },
   "outputs": [
    {
     "data": {
      "text/html": [
       "<div>\n",
       "<table border=\"1\" class=\"dataframe\">\n",
       "  <thead>\n",
       "    <tr style=\"text-align: right;\">\n",
       "      <th></th>\n",
       "      <th>col_a</th>\n",
       "      <th>numeric</th>\n",
       "    </tr>\n",
       "  </thead>\n",
       "  <tbody>\n",
       "    <tr>\n",
       "      <th>0</th>\n",
       "      <td>a</td>\n",
       "      <td>1</td>\n",
       "    </tr>\n",
       "    <tr>\n",
       "      <th>1</th>\n",
       "      <td>b</td>\n",
       "      <td>2</td>\n",
       "    </tr>\n",
       "    <tr>\n",
       "      <th>2</th>\n",
       "      <td>c</td>\n",
       "      <td>3</td>\n",
       "    </tr>\n",
       "  </tbody>\n",
       "</table>\n",
       "</div>"
      ],
      "text/plain": [
       "  col_a  numeric\n",
       "0     a        1\n",
       "1     b        2\n",
       "2     c        3"
      ]
     },
     "execution_count": 77,
     "metadata": {},
     "output_type": "execute_result"
    }
   ],
   "source": [
    "df"
   ]
  },
  {
   "cell_type": "code",
   "execution_count": 78,
   "metadata": {
    "collapsed": false
   },
   "outputs": [
    {
     "data": {
      "text/plain": [
       "col_a      a\n",
       "numeric    1\n",
       "Name: 0, dtype: object"
      ]
     },
     "execution_count": 78,
     "metadata": {},
     "output_type": "execute_result"
    }
   ],
   "source": [
    "# iloc accesses a row by its row number\n",
    "df.iloc[0]"
   ]
  },
  {
   "cell_type": "code",
   "execution_count": 79,
   "metadata": {
    "collapsed": false
   },
   "outputs": [
    {
     "data": {
      "text/html": [
       "<div>\n",
       "<table border=\"1\" class=\"dataframe\">\n",
       "  <thead>\n",
       "    <tr style=\"text-align: right;\">\n",
       "      <th></th>\n",
       "      <th>numeric</th>\n",
       "    </tr>\n",
       "    <tr>\n",
       "      <th>col_a</th>\n",
       "      <th></th>\n",
       "    </tr>\n",
       "  </thead>\n",
       "  <tbody>\n",
       "    <tr>\n",
       "      <th>a</th>\n",
       "      <td>1</td>\n",
       "    </tr>\n",
       "    <tr>\n",
       "      <th>b</th>\n",
       "      <td>2</td>\n",
       "    </tr>\n",
       "    <tr>\n",
       "      <th>c</th>\n",
       "      <td>3</td>\n",
       "    </tr>\n",
       "  </tbody>\n",
       "</table>\n",
       "</div>"
      ],
      "text/plain": [
       "       numeric\n",
       "col_a         \n",
       "a            1\n",
       "b            2\n",
       "c            3"
      ]
     },
     "execution_count": 79,
     "metadata": {},
     "output_type": "execute_result"
    }
   ],
   "source": [
    "df.set_index('col_a', inplace = True)\n",
    "df"
   ]
  },
  {
   "cell_type": "code",
   "execution_count": 80,
   "metadata": {
    "collapsed": false
   },
   "outputs": [],
   "source": [
    "# loc accesses a dataframe row by its index label (or column label)\n",
    "df.loc['a'] = 5\n",
    "df.loc['b'] = 3"
   ]
  },
  {
   "cell_type": "code",
   "execution_count": 81,
   "metadata": {
    "collapsed": false
   },
   "outputs": [
    {
     "data": {
      "text/html": [
       "<div>\n",
       "<table border=\"1\" class=\"dataframe\">\n",
       "  <thead>\n",
       "    <tr style=\"text-align: right;\">\n",
       "      <th></th>\n",
       "      <th>numeric</th>\n",
       "    </tr>\n",
       "    <tr>\n",
       "      <th>col_a</th>\n",
       "      <th></th>\n",
       "    </tr>\n",
       "  </thead>\n",
       "  <tbody>\n",
       "    <tr>\n",
       "      <th>a</th>\n",
       "      <td>5</td>\n",
       "    </tr>\n",
       "    <tr>\n",
       "      <th>b</th>\n",
       "      <td>3</td>\n",
       "    </tr>\n",
       "    <tr>\n",
       "      <th>c</th>\n",
       "      <td>3</td>\n",
       "    </tr>\n",
       "  </tbody>\n",
       "</table>\n",
       "</div>"
      ],
      "text/plain": [
       "       numeric\n",
       "col_a         \n",
       "a            5\n",
       "b            3\n",
       "c            3"
      ]
     },
     "execution_count": 81,
     "metadata": {},
     "output_type": "execute_result"
    }
   ],
   "source": [
    "df"
   ]
  },
  {
   "cell_type": "code",
   "execution_count": 82,
   "metadata": {
    "collapsed": false
   },
   "outputs": [
    {
     "data": {
      "text/html": [
       "<div>\n",
       "<table border=\"1\" class=\"dataframe\">\n",
       "  <thead>\n",
       "    <tr style=\"text-align: right;\">\n",
       "      <th></th>\n",
       "      <th>numeric</th>\n",
       "      <th>C</th>\n",
       "    </tr>\n",
       "    <tr>\n",
       "      <th>col_a</th>\n",
       "      <th></th>\n",
       "      <th></th>\n",
       "    </tr>\n",
       "  </thead>\n",
       "  <tbody>\n",
       "    <tr>\n",
       "      <th>a</th>\n",
       "      <td>5</td>\n",
       "      <td>5</td>\n",
       "    </tr>\n",
       "    <tr>\n",
       "      <th>b</th>\n",
       "      <td>3</td>\n",
       "      <td>3</td>\n",
       "    </tr>\n",
       "    <tr>\n",
       "      <th>c</th>\n",
       "      <td>3</td>\n",
       "      <td>3</td>\n",
       "    </tr>\n",
       "  </tbody>\n",
       "</table>\n",
       "</div>"
      ],
      "text/plain": [
       "       numeric  C\n",
       "col_a            \n",
       "a            5  5\n",
       "b            3  3\n",
       "c            3  3"
      ]
     },
     "execution_count": 82,
     "metadata": {},
     "output_type": "execute_result"
    }
   ],
   "source": [
    "# This can be used to add new columns\n",
    "df.loc[:,'C'] = df.loc[:,'numeric']\n",
    "\n",
    "df"
   ]
  },
  {
   "cell_type": "code",
   "execution_count": 83,
   "metadata": {
    "collapsed": false
   },
   "outputs": [
    {
     "data": {
      "text/html": [
       "<div>\n",
       "<table border=\"1\" class=\"dataframe\">\n",
       "  <thead>\n",
       "    <tr style=\"text-align: right;\">\n",
       "      <th></th>\n",
       "      <th>numeric</th>\n",
       "      <th>C</th>\n",
       "      <th>D</th>\n",
       "    </tr>\n",
       "    <tr>\n",
       "      <th>col_a</th>\n",
       "      <th></th>\n",
       "      <th></th>\n",
       "      <th></th>\n",
       "    </tr>\n",
       "  </thead>\n",
       "  <tbody>\n",
       "    <tr>\n",
       "      <th>a</th>\n",
       "      <td>5</td>\n",
       "      <td>5</td>\n",
       "      <td>5</td>\n",
       "    </tr>\n",
       "    <tr>\n",
       "      <th>b</th>\n",
       "      <td>3</td>\n",
       "      <td>3</td>\n",
       "      <td>3</td>\n",
       "    </tr>\n",
       "    <tr>\n",
       "      <th>c</th>\n",
       "      <td>3</td>\n",
       "      <td>3</td>\n",
       "      <td>3</td>\n",
       "    </tr>\n",
       "  </tbody>\n",
       "</table>\n",
       "</div>"
      ],
      "text/plain": [
       "       numeric  C  D\n",
       "col_a               \n",
       "a            5  5  5\n",
       "b            3  3  3\n",
       "c            3  3  3"
      ]
     },
     "execution_count": 83,
     "metadata": {},
     "output_type": "execute_result"
    }
   ],
   "source": [
    "# is equivalent to:\n",
    "df['D'] = df.loc[:,'numeric']\n",
    "\n",
    "df"
   ]
  },
  {
   "cell_type": "markdown",
   "metadata": {},
   "source": [
    ".ix is the generic form of indexers\n",
    "\n",
    "Values can be set by index and index + column"
   ]
  },
  {
   "cell_type": "code",
   "execution_count": 84,
   "metadata": {
    "collapsed": false
   },
   "outputs": [
    {
     "data": {
      "text/html": [
       "<div>\n",
       "<table border=\"1\" class=\"dataframe\">\n",
       "  <thead>\n",
       "    <tr style=\"text-align: right;\">\n",
       "      <th></th>\n",
       "      <th>numeric</th>\n",
       "      <th>C</th>\n",
       "      <th>D</th>\n",
       "    </tr>\n",
       "    <tr>\n",
       "      <th>col_a</th>\n",
       "      <th></th>\n",
       "      <th></th>\n",
       "      <th></th>\n",
       "    </tr>\n",
       "  </thead>\n",
       "  <tbody>\n",
       "    <tr>\n",
       "      <th>a</th>\n",
       "      <td>5</td>\n",
       "      <td>5</td>\n",
       "      <td>5</td>\n",
       "    </tr>\n",
       "    <tr>\n",
       "      <th>b</th>\n",
       "      <td>3</td>\n",
       "      <td>3</td>\n",
       "      <td>3</td>\n",
       "    </tr>\n",
       "    <tr>\n",
       "      <th>c</th>\n",
       "      <td>2</td>\n",
       "      <td>3</td>\n",
       "      <td>2</td>\n",
       "    </tr>\n",
       "  </tbody>\n",
       "</table>\n",
       "</div>"
      ],
      "text/plain": [
       "       numeric  C  D\n",
       "col_a               \n",
       "a            5  5  5\n",
       "b            3  3  3\n",
       "c            2  3  2"
      ]
     },
     "execution_count": 84,
     "metadata": {},
     "output_type": "execute_result"
    }
   ],
   "source": [
    "df.ix[2] = 2\n",
    "df.ix[2, 'C'] = 3\n",
    "\n",
    "df"
   ]
  },
  {
   "cell_type": "markdown",
   "metadata": {},
   "source": [
    "### Combining DataFrames\n",
    "#### Appending\n",
    "We can append dataframes together"
   ]
  },
  {
   "cell_type": "code",
   "execution_count": 85,
   "metadata": {
    "collapsed": false
   },
   "outputs": [
    {
     "data": {
      "text/html": [
       "<div>\n",
       "<table border=\"1\" class=\"dataframe\">\n",
       "  <thead>\n",
       "    <tr style=\"text-align: right;\">\n",
       "      <th></th>\n",
       "      <th>numeric</th>\n",
       "      <th>C</th>\n",
       "      <th>D</th>\n",
       "    </tr>\n",
       "    <tr>\n",
       "      <th>col_a</th>\n",
       "      <th></th>\n",
       "      <th></th>\n",
       "      <th></th>\n",
       "    </tr>\n",
       "  </thead>\n",
       "  <tbody>\n",
       "    <tr>\n",
       "      <th>a</th>\n",
       "      <td>5</td>\n",
       "      <td>5</td>\n",
       "      <td>5</td>\n",
       "    </tr>\n",
       "    <tr>\n",
       "      <th>b</th>\n",
       "      <td>3</td>\n",
       "      <td>3</td>\n",
       "      <td>3</td>\n",
       "    </tr>\n",
       "    <tr>\n",
       "      <th>c</th>\n",
       "      <td>2</td>\n",
       "      <td>3</td>\n",
       "      <td>2</td>\n",
       "    </tr>\n",
       "    <tr>\n",
       "      <th>a</th>\n",
       "      <td>5</td>\n",
       "      <td>5</td>\n",
       "      <td>5</td>\n",
       "    </tr>\n",
       "    <tr>\n",
       "      <th>b</th>\n",
       "      <td>3</td>\n",
       "      <td>3</td>\n",
       "      <td>3</td>\n",
       "    </tr>\n",
       "    <tr>\n",
       "      <th>c</th>\n",
       "      <td>2</td>\n",
       "      <td>3</td>\n",
       "      <td>2</td>\n",
       "    </tr>\n",
       "  </tbody>\n",
       "</table>\n",
       "</div>"
      ],
      "text/plain": [
       "       numeric  C  D\n",
       "col_a               \n",
       "a            5  5  5\n",
       "b            3  3  3\n",
       "c            2  3  2\n",
       "a            5  5  5\n",
       "b            3  3  3\n",
       "c            2  3  2"
      ]
     },
     "execution_count": 85,
     "metadata": {},
     "output_type": "execute_result"
    }
   ],
   "source": [
    "df_combine = df.append(df)\n",
    "df_combine"
   ]
  },
  {
   "cell_type": "code",
   "execution_count": 86,
   "metadata": {
    "collapsed": false
   },
   "outputs": [
    {
     "data": {
      "text/html": [
       "<div>\n",
       "<table border=\"1\" class=\"dataframe\">\n",
       "  <thead>\n",
       "    <tr style=\"text-align: right;\">\n",
       "      <th></th>\n",
       "      <th>col_a</th>\n",
       "      <th>numeric</th>\n",
       "      <th>C</th>\n",
       "      <th>D</th>\n",
       "    </tr>\n",
       "  </thead>\n",
       "  <tbody>\n",
       "    <tr>\n",
       "      <th>0</th>\n",
       "      <td>a</td>\n",
       "      <td>5</td>\n",
       "      <td>5</td>\n",
       "      <td>5</td>\n",
       "    </tr>\n",
       "    <tr>\n",
       "      <th>1</th>\n",
       "      <td>b</td>\n",
       "      <td>3</td>\n",
       "      <td>3</td>\n",
       "      <td>3</td>\n",
       "    </tr>\n",
       "    <tr>\n",
       "      <th>2</th>\n",
       "      <td>c</td>\n",
       "      <td>2</td>\n",
       "      <td>3</td>\n",
       "      <td>2</td>\n",
       "    </tr>\n",
       "    <tr>\n",
       "      <th>3</th>\n",
       "      <td>a</td>\n",
       "      <td>5</td>\n",
       "      <td>5</td>\n",
       "      <td>5</td>\n",
       "    </tr>\n",
       "    <tr>\n",
       "      <th>4</th>\n",
       "      <td>b</td>\n",
       "      <td>3</td>\n",
       "      <td>3</td>\n",
       "      <td>3</td>\n",
       "    </tr>\n",
       "    <tr>\n",
       "      <th>5</th>\n",
       "      <td>c</td>\n",
       "      <td>2</td>\n",
       "      <td>3</td>\n",
       "      <td>2</td>\n",
       "    </tr>\n",
       "  </tbody>\n",
       "</table>\n",
       "</div>"
      ],
      "text/plain": [
       "  col_a  numeric  C  D\n",
       "0     a        5  5  5\n",
       "1     b        3  3  3\n",
       "2     c        2  3  2\n",
       "3     a        5  5  5\n",
       "4     b        3  3  3\n",
       "5     c        2  3  2"
      ]
     },
     "execution_count": 86,
     "metadata": {},
     "output_type": "execute_result"
    }
   ],
   "source": [
    "# When DataFrames are appended together, we often need to create a new index\n",
    "df_combine.reset_index()"
   ]
  },
  {
   "cell_type": "markdown",
   "metadata": {},
   "source": [
    "#### Join lets us join together dataframes using their index"
   ]
  },
  {
   "cell_type": "code",
   "execution_count": 87,
   "metadata": {
    "collapsed": false
   },
   "outputs": [
    {
     "data": {
      "text/html": [
       "<div>\n",
       "<table border=\"1\" class=\"dataframe\">\n",
       "  <thead>\n",
       "    <tr style=\"text-align: right;\">\n",
       "      <th></th>\n",
       "      <th>col</th>\n",
       "    </tr>\n",
       "  </thead>\n",
       "  <tbody>\n",
       "    <tr>\n",
       "      <th>0</th>\n",
       "      <td>1</td>\n",
       "    </tr>\n",
       "    <tr>\n",
       "      <th>1</th>\n",
       "      <td>2</td>\n",
       "    </tr>\n",
       "    <tr>\n",
       "      <th>2</th>\n",
       "      <td>3</td>\n",
       "    </tr>\n",
       "  </tbody>\n",
       "</table>\n",
       "</div>"
      ],
      "text/plain": [
       "   col\n",
       "0    1\n",
       "1    2\n",
       "2    3"
      ]
     },
     "execution_count": 87,
     "metadata": {},
     "output_type": "execute_result"
    }
   ],
   "source": [
    "df_2 = pd.DataFrame([1, 2, 3], columns=['col'])\n",
    "df_2"
   ]
  },
  {
   "cell_type": "code",
   "execution_count": 88,
   "metadata": {
    "collapsed": false
   },
   "outputs": [
    {
     "data": {
      "text/html": [
       "<div>\n",
       "<table border=\"1\" class=\"dataframe\">\n",
       "  <thead>\n",
       "    <tr style=\"text-align: right;\">\n",
       "      <th></th>\n",
       "      <th>numeric</th>\n",
       "      <th>C</th>\n",
       "      <th>D</th>\n",
       "      <th>col</th>\n",
       "    </tr>\n",
       "    <tr>\n",
       "      <th>col_a</th>\n",
       "      <th></th>\n",
       "      <th></th>\n",
       "      <th></th>\n",
       "      <th></th>\n",
       "    </tr>\n",
       "  </thead>\n",
       "  <tbody>\n",
       "    <tr>\n",
       "      <th>a</th>\n",
       "      <td>5</td>\n",
       "      <td>5</td>\n",
       "      <td>5</td>\n",
       "      <td>NaN</td>\n",
       "    </tr>\n",
       "    <tr>\n",
       "      <th>b</th>\n",
       "      <td>3</td>\n",
       "      <td>3</td>\n",
       "      <td>3</td>\n",
       "      <td>NaN</td>\n",
       "    </tr>\n",
       "    <tr>\n",
       "      <th>c</th>\n",
       "      <td>2</td>\n",
       "      <td>3</td>\n",
       "      <td>2</td>\n",
       "      <td>NaN</td>\n",
       "    </tr>\n",
       "  </tbody>\n",
       "</table>\n",
       "</div>"
      ],
      "text/plain": [
       "       numeric  C  D  col\n",
       "col_a                    \n",
       "a            5  5  5  NaN\n",
       "b            3  3  3  NaN\n",
       "c            2  3  2  NaN"
      ]
     },
     "execution_count": 88,
     "metadata": {},
     "output_type": "execute_result"
    }
   ],
   "source": [
    "# The default is left join, so Null values are placed\n",
    "# where values are misssing\n",
    "df.join(df_2)\n"
   ]
  },
  {
   "cell_type": "code",
   "execution_count": 89,
   "metadata": {
    "collapsed": false
   },
   "outputs": [
    {
     "data": {
      "text/html": [
       "<div>\n",
       "<table border=\"1\" class=\"dataframe\">\n",
       "  <thead>\n",
       "    <tr style=\"text-align: right;\">\n",
       "      <th></th>\n",
       "      <th>col_a</th>\n",
       "      <th>numeric</th>\n",
       "      <th>C</th>\n",
       "      <th>D</th>\n",
       "    </tr>\n",
       "  </thead>\n",
       "  <tbody>\n",
       "    <tr>\n",
       "      <th>0</th>\n",
       "      <td>a</td>\n",
       "      <td>5</td>\n",
       "      <td>5</td>\n",
       "      <td>5</td>\n",
       "    </tr>\n",
       "    <tr>\n",
       "      <th>1</th>\n",
       "      <td>b</td>\n",
       "      <td>3</td>\n",
       "      <td>3</td>\n",
       "      <td>3</td>\n",
       "    </tr>\n",
       "    <tr>\n",
       "      <th>2</th>\n",
       "      <td>c</td>\n",
       "      <td>2</td>\n",
       "      <td>3</td>\n",
       "      <td>2</td>\n",
       "    </tr>\n",
       "  </tbody>\n",
       "</table>\n",
       "</div>"
      ],
      "text/plain": [
       "  col_a  numeric  C  D\n",
       "0     a        5  5  5\n",
       "1     b        3  3  3\n",
       "2     c        2  3  2"
      ]
     },
     "execution_count": 89,
     "metadata": {},
     "output_type": "execute_result"
    }
   ],
   "source": [
    "# reset the index\n",
    "df_1 = df.reset_index()\n",
    "df_1"
   ]
  },
  {
   "cell_type": "code",
   "execution_count": 90,
   "metadata": {
    "collapsed": false
   },
   "outputs": [
    {
     "data": {
      "text/html": [
       "<div>\n",
       "<table border=\"1\" class=\"dataframe\">\n",
       "  <thead>\n",
       "    <tr style=\"text-align: right;\">\n",
       "      <th></th>\n",
       "      <th>col_a</th>\n",
       "      <th>numeric</th>\n",
       "      <th>C</th>\n",
       "      <th>D</th>\n",
       "      <th>col</th>\n",
       "    </tr>\n",
       "  </thead>\n",
       "  <tbody>\n",
       "    <tr>\n",
       "      <th>0</th>\n",
       "      <td>a</td>\n",
       "      <td>5</td>\n",
       "      <td>5</td>\n",
       "      <td>5</td>\n",
       "      <td>1</td>\n",
       "    </tr>\n",
       "    <tr>\n",
       "      <th>1</th>\n",
       "      <td>b</td>\n",
       "      <td>3</td>\n",
       "      <td>3</td>\n",
       "      <td>3</td>\n",
       "      <td>2</td>\n",
       "    </tr>\n",
       "    <tr>\n",
       "      <th>2</th>\n",
       "      <td>c</td>\n",
       "      <td>2</td>\n",
       "      <td>3</td>\n",
       "      <td>2</td>\n",
       "      <td>3</td>\n",
       "    </tr>\n",
       "  </tbody>\n",
       "</table>\n",
       "</div>"
      ],
      "text/plain": [
       "  col_a  numeric  C  D  col\n",
       "0     a        5  5  5    1\n",
       "1     b        3  3  3    2\n",
       "2     c        2  3  2    3"
      ]
     },
     "execution_count": 90,
     "metadata": {},
     "output_type": "execute_result"
    }
   ],
   "source": [
    "# try joining again:\n",
    "df_1.join(df_2)\n"
   ]
  },
  {
   "cell_type": "markdown",
   "metadata": {},
   "source": [
    "#### Merge allows us to join on any fields"
   ]
  },
  {
   "cell_type": "code",
   "execution_count": 91,
   "metadata": {
    "collapsed": false
   },
   "outputs": [
    {
     "data": {
      "text/html": [
       "<div>\n",
       "<table border=\"1\" class=\"dataframe\">\n",
       "  <thead>\n",
       "    <tr style=\"text-align: right;\">\n",
       "      <th></th>\n",
       "      <th>numeric</th>\n",
       "      <th>C</th>\n",
       "      <th>D</th>\n",
       "      <th>col</th>\n",
       "    </tr>\n",
       "  </thead>\n",
       "  <tbody>\n",
       "    <tr>\n",
       "      <th>0</th>\n",
       "      <td>3</td>\n",
       "      <td>3</td>\n",
       "      <td>3</td>\n",
       "      <td>3</td>\n",
       "    </tr>\n",
       "    <tr>\n",
       "      <th>1</th>\n",
       "      <td>2</td>\n",
       "      <td>3</td>\n",
       "      <td>2</td>\n",
       "      <td>2</td>\n",
       "    </tr>\n",
       "  </tbody>\n",
       "</table>\n",
       "</div>"
      ],
      "text/plain": [
       "   numeric  C  D  col\n",
       "0        3  3  3    3\n",
       "1        2  3  2    2"
      ]
     },
     "execution_count": 91,
     "metadata": {},
     "output_type": "execute_result"
    }
   ],
   "source": [
    "# Merge has a default of inner join\n",
    "# So where the join misses rows are omitted\n",
    "df.merge(df_2, left_on='numeric', right_on='col')"
   ]
  },
  {
   "cell_type": "markdown",
   "metadata": {},
   "source": [
    "### Concat combines a list of DataFrames together"
   ]
  },
  {
   "cell_type": "code",
   "execution_count": 92,
   "metadata": {
    "collapsed": false
   },
   "outputs": [
    {
     "data": {
      "text/html": [
       "<div>\n",
       "<table border=\"1\" class=\"dataframe\">\n",
       "  <thead>\n",
       "    <tr style=\"text-align: right;\">\n",
       "      <th></th>\n",
       "      <th>numeric</th>\n",
       "      <th>C</th>\n",
       "      <th>D</th>\n",
       "    </tr>\n",
       "    <tr>\n",
       "      <th>col_a</th>\n",
       "      <th></th>\n",
       "      <th></th>\n",
       "      <th></th>\n",
       "    </tr>\n",
       "  </thead>\n",
       "  <tbody>\n",
       "    <tr>\n",
       "      <th>a</th>\n",
       "      <td>5</td>\n",
       "      <td>5</td>\n",
       "      <td>5</td>\n",
       "    </tr>\n",
       "    <tr>\n",
       "      <th>b</th>\n",
       "      <td>3</td>\n",
       "      <td>3</td>\n",
       "      <td>3</td>\n",
       "    </tr>\n",
       "    <tr>\n",
       "      <th>c</th>\n",
       "      <td>2</td>\n",
       "      <td>3</td>\n",
       "      <td>2</td>\n",
       "    </tr>\n",
       "    <tr>\n",
       "      <th>a</th>\n",
       "      <td>5</td>\n",
       "      <td>5</td>\n",
       "      <td>5</td>\n",
       "    </tr>\n",
       "    <tr>\n",
       "      <th>b</th>\n",
       "      <td>3</td>\n",
       "      <td>3</td>\n",
       "      <td>3</td>\n",
       "    </tr>\n",
       "    <tr>\n",
       "      <th>c</th>\n",
       "      <td>2</td>\n",
       "      <td>3</td>\n",
       "      <td>2</td>\n",
       "    </tr>\n",
       "  </tbody>\n",
       "</table>\n",
       "</div>"
      ],
      "text/plain": [
       "       numeric  C  D\n",
       "col_a               \n",
       "a            5  5  5\n",
       "b            3  3  3\n",
       "c            2  3  2\n",
       "a            5  5  5\n",
       "b            3  3  3\n",
       "c            2  3  2"
      ]
     },
     "execution_count": 92,
     "metadata": {},
     "output_type": "execute_result"
    }
   ],
   "source": [
    "# It can be used like append\n",
    "pd.concat([df, df])"
   ]
  },
  {
   "cell_type": "code",
   "execution_count": 93,
   "metadata": {
    "collapsed": false
   },
   "outputs": [
    {
     "data": {
      "text/html": [
       "<div>\n",
       "<table border=\"1\" class=\"dataframe\">\n",
       "  <thead>\n",
       "    <tr style=\"text-align: right;\">\n",
       "      <th></th>\n",
       "      <th>C</th>\n",
       "      <th>D</th>\n",
       "      <th>col</th>\n",
       "      <th>numeric</th>\n",
       "    </tr>\n",
       "    <tr>\n",
       "      <th>col_a</th>\n",
       "      <th></th>\n",
       "      <th></th>\n",
       "      <th></th>\n",
       "      <th></th>\n",
       "    </tr>\n",
       "  </thead>\n",
       "  <tbody>\n",
       "    <tr>\n",
       "      <th>a</th>\n",
       "      <td>5</td>\n",
       "      <td>5</td>\n",
       "      <td>NaN</td>\n",
       "      <td>5</td>\n",
       "    </tr>\n",
       "    <tr>\n",
       "      <th>b</th>\n",
       "      <td>3</td>\n",
       "      <td>3</td>\n",
       "      <td>NaN</td>\n",
       "      <td>3</td>\n",
       "    </tr>\n",
       "    <tr>\n",
       "      <th>c</th>\n",
       "      <td>3</td>\n",
       "      <td>2</td>\n",
       "      <td>NaN</td>\n",
       "      <td>2</td>\n",
       "    </tr>\n",
       "    <tr>\n",
       "      <th>0</th>\n",
       "      <td>NaN</td>\n",
       "      <td>NaN</td>\n",
       "      <td>1</td>\n",
       "      <td>NaN</td>\n",
       "    </tr>\n",
       "    <tr>\n",
       "      <th>1</th>\n",
       "      <td>NaN</td>\n",
       "      <td>NaN</td>\n",
       "      <td>2</td>\n",
       "      <td>NaN</td>\n",
       "    </tr>\n",
       "    <tr>\n",
       "      <th>2</th>\n",
       "      <td>NaN</td>\n",
       "      <td>NaN</td>\n",
       "      <td>3</td>\n",
       "      <td>NaN</td>\n",
       "    </tr>\n",
       "  </tbody>\n",
       "</table>\n",
       "</div>"
      ],
      "text/plain": [
       "        C   D  col  numeric\n",
       "col_a                      \n",
       "a       5   5  NaN        5\n",
       "b       3   3  NaN        3\n",
       "c       3   2  NaN        2\n",
       "0     NaN NaN    1      NaN\n",
       "1     NaN NaN    2      NaN\n",
       "2     NaN NaN    3      NaN"
      ]
     },
     "execution_count": 93,
     "metadata": {},
     "output_type": "execute_result"
    }
   ],
   "source": [
    "# But concat will create a spare DataFrame when columns don't match\n",
    "# This can create huge dataframes when mismatches occur\n",
    "pd.concat([df, df_2])"
   ]
  },
  {
   "cell_type": "markdown",
   "metadata": {},
   "source": [
    "## Exercise 2\n",
    "### Combining numpy and pandas"
   ]
  },
  {
   "cell_type": "markdown",
   "metadata": {},
   "source": [
    "1) Create 2 arrays of integers\n",
    "\n",
    "One should be created using np.random"
   ]
  },
  {
   "cell_type": "code",
   "execution_count": 98,
   "metadata": {
    "collapsed": false
   },
   "outputs": [
    {
     "name": "stdout",
     "output_type": "stream",
     "text": [
      "[[0 1 2 3 4]]\n",
      "[[ 0.20677213  0.1436997   0.51921492  0.31000476  0.44088897]]\n"
     ]
    }
   ],
   "source": [
    "array1 = np.arange(5).reshape(1,5)\n",
    "rm = np.random.rand(1,5)\n",
    "print array1\n",
    "print rm"
   ]
  },
  {
   "cell_type": "markdown",
   "metadata": {},
   "source": [
    "2) Turn those arrays into pandas DataFrames\n",
    "\n",
    "The columns can be named numerically"
   ]
  },
  {
   "cell_type": "code",
   "execution_count": 100,
   "metadata": {
    "collapsed": false
   },
   "outputs": [
    {
     "name": "stdout",
     "output_type": "stream",
     "text": [
      "   col1  col2  col3  col4  col5\n",
      "0     0     1     2     3     4\n",
      "       col1    col2      col3      col4      col5\n",
      "0  0.206772  0.1437  0.519215  0.310005  0.440889\n"
     ]
    }
   ],
   "source": [
    "df = pd.DataFrame(array1, columns=['col1', 'col2', 'col3', 'col4', 'col5'])\n",
    "dfrm = pd.DataFrame(rm, columns = ['col1', 'col2', 'col3', 'col4', 'col5'])\n",
    "print df\n",
    "print dfrm"
   ]
  },
  {
   "cell_type": "markdown",
   "metadata": {},
   "source": [
    "3) Use some of the summary functions on the dataframes and arrays\n",
    "\n",
    "Show how mean and var give the same response in python and numpy"
   ]
  },
  {
   "cell_type": "code",
   "execution_count": 105,
   "metadata": {
    "collapsed": false
   },
   "outputs": [
    {
     "name": "stdout",
     "output_type": "stream",
     "text": [
      "2.0\n",
      "2.0\n",
      "0.324116094766\n",
      "0.0196436530242\n"
     ]
    }
   ],
   "source": [
    "print array1.mean()\n",
    "print array1.var()\n",
    "\n",
    "print rm.mean()\n",
    "print rm.var()\n",
    "\n"
   ]
  },
  {
   "cell_type": "code",
   "execution_count": 107,
   "metadata": {
    "collapsed": false
   },
   "outputs": [
    {
     "data": {
      "text/html": [
       "<div>\n",
       "<table border=\"1\" class=\"dataframe\">\n",
       "  <thead>\n",
       "    <tr style=\"text-align: right;\">\n",
       "      <th></th>\n",
       "      <th>col1</th>\n",
       "      <th>col2</th>\n",
       "      <th>col3</th>\n",
       "      <th>col4</th>\n",
       "      <th>col5</th>\n",
       "    </tr>\n",
       "  </thead>\n",
       "  <tbody>\n",
       "    <tr>\n",
       "      <th>count</th>\n",
       "      <td>1</td>\n",
       "      <td>1</td>\n",
       "      <td>1</td>\n",
       "      <td>1</td>\n",
       "      <td>1</td>\n",
       "    </tr>\n",
       "    <tr>\n",
       "      <th>mean</th>\n",
       "      <td>0</td>\n",
       "      <td>1</td>\n",
       "      <td>2</td>\n",
       "      <td>3</td>\n",
       "      <td>4</td>\n",
       "    </tr>\n",
       "    <tr>\n",
       "      <th>std</th>\n",
       "      <td>NaN</td>\n",
       "      <td>NaN</td>\n",
       "      <td>NaN</td>\n",
       "      <td>NaN</td>\n",
       "      <td>NaN</td>\n",
       "    </tr>\n",
       "    <tr>\n",
       "      <th>min</th>\n",
       "      <td>0</td>\n",
       "      <td>1</td>\n",
       "      <td>2</td>\n",
       "      <td>3</td>\n",
       "      <td>4</td>\n",
       "    </tr>\n",
       "    <tr>\n",
       "      <th>25%</th>\n",
       "      <td>0</td>\n",
       "      <td>1</td>\n",
       "      <td>2</td>\n",
       "      <td>3</td>\n",
       "      <td>4</td>\n",
       "    </tr>\n",
       "    <tr>\n",
       "      <th>50%</th>\n",
       "      <td>0</td>\n",
       "      <td>1</td>\n",
       "      <td>2</td>\n",
       "      <td>3</td>\n",
       "      <td>4</td>\n",
       "    </tr>\n",
       "    <tr>\n",
       "      <th>75%</th>\n",
       "      <td>0</td>\n",
       "      <td>1</td>\n",
       "      <td>2</td>\n",
       "      <td>3</td>\n",
       "      <td>4</td>\n",
       "    </tr>\n",
       "    <tr>\n",
       "      <th>max</th>\n",
       "      <td>0</td>\n",
       "      <td>1</td>\n",
       "      <td>2</td>\n",
       "      <td>3</td>\n",
       "      <td>4</td>\n",
       "    </tr>\n",
       "  </tbody>\n",
       "</table>\n",
       "</div>"
      ],
      "text/plain": [
       "       col1  col2  col3  col4  col5\n",
       "count     1     1     1     1     1\n",
       "mean      0     1     2     3     4\n",
       "std     NaN   NaN   NaN   NaN   NaN\n",
       "min       0     1     2     3     4\n",
       "25%       0     1     2     3     4\n",
       "50%       0     1     2     3     4\n",
       "75%       0     1     2     3     4\n",
       "max       0     1     2     3     4"
      ]
     },
     "execution_count": 107,
     "metadata": {},
     "output_type": "execute_result"
    }
   ],
   "source": [
    "df.describe()"
   ]
  },
  {
   "cell_type": "markdown",
   "metadata": {},
   "source": [
    "\n",
    "4) Add an extra index using .loc"
   ]
  },
  {
   "cell_type": "code",
   "execution_count": null,
   "metadata": {
    "collapsed": true
   },
   "outputs": [],
   "source": []
  },
  {
   "cell_type": "markdown",
   "metadata": {},
   "source": [
    "5) Using merge or join, create a single DataFrame from the two"
   ]
  },
  {
   "cell_type": "code",
   "execution_count": null,
   "metadata": {
    "collapsed": true
   },
   "outputs": [],
   "source": []
  },
  {
   "cell_type": "markdown",
   "metadata": {},
   "source": [
    "6) Try testing out the groupby functions\n",
    "\n",
    "df.groupby(column).agg (agg can be an aggregate function, try sum, max, min...)\n",
    "\n",
    "Resources can be found here: http://pandas.pydata.org/pandas-docs/stable/10min.html#grouping\n"
   ]
  },
  {
   "cell_type": "code",
   "execution_count": null,
   "metadata": {
    "collapsed": true
   },
   "outputs": [],
   "source": []
  },
  {
   "cell_type": "markdown",
   "metadata": {},
   "source": [
    "## Plotting!"
   ]
  },
  {
   "cell_type": "code",
   "execution_count": null,
   "metadata": {
    "collapsed": false
   },
   "outputs": [],
   "source": [
    "import pandas.io.data\n",
    "import datetime\n",
    "import matplotlib.pyplot as plt\n",
    "\n",
    "%matplotlib inline\n",
    "\n",
    "mu, sigma = 0, 0.1\n",
    "normal_dist = np.random.normal(mu, sigma, 1000)\n",
    "aapl = pd.io.data.get_data_yahoo('FB', \n",
    "                                 start=datetime.datetime(2015, 4, 1), \n",
    "                                 end=datetime.datetime(2015, 4, 28))\n",
    "aapl.head()"
   ]
  },
  {
   "cell_type": "markdown",
   "metadata": {},
   "source": [
    "## MatPlotLib\n",
    "\n",
    "MatPlotLib is a standard, granular method for building visualizations. Although tried and true, it can be cumbersome compared to other higher level packages such as Seaborn or Bokeh. Note most visualization packages use matplotlib as their base."
   ]
  },
  {
   "cell_type": "code",
   "execution_count": null,
   "metadata": {
    "collapsed": false
   },
   "outputs": [],
   "source": [
    "fig = plt.figure(figsize=(20,16))\n",
    "\n",
    "ax = fig.add_subplot(2,2,1)\n",
    "ax.plot(aapl.index, aapl['Close'])\n",
    "ax.set_title('Line plots', size=24)\n",
    "\n",
    "ax = fig.add_subplot(2,2,2)\n",
    "ax.plot(aapl['Close'], 'o')\n",
    "ax.set_title('Scatter plots', size=24)\n",
    "\n",
    "ax = fig.add_subplot(2,2,3)\n",
    "ax.hist(normal_dist, bins=50)\n",
    "ax.set_title('Histograms', size=24)\n",
    "ax.set_xlabel('count', size=16)\n",
    "\n",
    "ax = fig.add_subplot(2,2,4)\n",
    "ax.boxplot(normal_dist)\n",
    "ax.set_title('Boxplots', size=24)"
   ]
  },
  {
   "cell_type": "markdown",
   "metadata": {},
   "source": [
    "### Bokeh\n",
    "To install Bokeh, go to a terminal and type:\n",
    "\n",
    "`conda install bokeh` \n",
    "\n",
    "Bokeh is built by the same people that created Anaconda (Continuum Analytics) and is designed out of the box for web display, making it nice for creating presentation ready, interactive visuals quickly. Labs in this course will be shown in Bokeh. Checkout http://bokeh.pydata.org/en/latest/docs/quickstart.html#concepts to see some of the range of capabilities."
   ]
  },
  {
   "cell_type": "code",
   "execution_count": null,
   "metadata": {
    "collapsed": false
   },
   "outputs": [],
   "source": [
    "from bokeh.plotting import figure, output_notebook,show\n",
    "output_notebook()"
   ]
  },
  {
   "cell_type": "code",
   "execution_count": null,
   "metadata": {
    "collapsed": false
   },
   "outputs": [],
   "source": [
    "# prepare some data\n",
    "x = aapl.Low\n",
    "y = aapl['High']\n",
    "\n",
    "# create a new plot with a title and axis labels\n",
    "p = figure(title=\"Stock High vs. Low\", x_axis_label='Low', y_axis_label='High')\n",
    "\n",
    "# add a line renderer with legend and line thickness\n",
    "p.circle(x, y, legend=\"High vs. Low\", line_width=2)\n",
    "\n",
    "# show the results\n",
    "show(p)"
   ]
  },
  {
   "cell_type": "code",
   "execution_count": null,
   "metadata": {
    "collapsed": false
   },
   "outputs": [],
   "source": [
    "x = aapl.index\n",
    "y = aapl.Close\n",
    "p = figure(title=\"Stock Open & Close over time\", x_axis_label='Date', y_axis_label='High',x_axis_type=\"datetime\")\n",
    "# Note that I've declared the x_axis_type\n",
    "p.square(x, y, legend=\"Close\")\n",
    "p.circle(x,aapl.Open,legend='Open',color='red')\n",
    "# show the results\n",
    "show(p)"
   ]
  },
  {
   "cell_type": "markdown",
   "metadata": {},
   "source": [
    "## Pandas Plotting!\n",
    "\n",
    "The plot method is a great, quick way to visualize your dataframes. By selecting the columns you care to view, calling .plot() on the dataframe defaults to a line chart vs. the index.\n",
    "\n",
    "We will be revisiting this so just take a second to appreciate what can be done with one line of code."
   ]
  },
  {
   "cell_type": "code",
   "execution_count": null,
   "metadata": {
    "collapsed": false
   },
   "outputs": [],
   "source": [
    "aapl[['Open','Close']].plot()"
   ]
  },
  {
   "cell_type": "code",
   "execution_count": null,
   "metadata": {
    "collapsed": false
   },
   "outputs": [],
   "source": [
    "aapl[['High','Low','Open','Close']].plot(kind='box')"
   ]
  },
  {
   "cell_type": "code",
   "execution_count": null,
   "metadata": {
    "collapsed": true
   },
   "outputs": [],
   "source": []
  }
 ],
 "metadata": {
  "kernelspec": {
   "display_name": "Python 2",
   "language": "python",
   "name": "python2"
  },
  "language_info": {
   "codemirror_mode": {
    "name": "ipython",
    "version": 2
   },
   "file_extension": ".py",
   "mimetype": "text/x-python",
   "name": "python",
   "nbconvert_exporter": "python",
   "pygments_lexer": "ipython2",
   "version": "2.7.10"
  }
 },
 "nbformat": 4,
 "nbformat_minor": 0
}
